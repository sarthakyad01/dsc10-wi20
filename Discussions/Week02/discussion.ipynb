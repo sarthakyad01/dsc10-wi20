{
 "cells": [
  {
   "cell_type": "code",
   "execution_count": null,
   "metadata": {
    "slideshow": {
     "slide_type": "skip"
    }
   },
   "outputs": [],
   "source": [
    "import babypandas as bpd\n",
    "import numpy as np\n",
    "from notebook.services.config import ConfigManager\n",
    "cm = ConfigManager()\n",
    "cm.update(\n",
    "    \"livereveal\", {\n",
    "        \"width\": \"90%\",\n",
    "        \"height\": \"90%\",\n",
    "        \"scroll\": True,\n",
    "})"
   ]
  },
  {
   "cell_type": "markdown",
   "metadata": {
    "slideshow": {
     "slide_type": "slide"
    }
   },
   "source": [
    "# DSC 10 Discussion Week 2\n",
    "---"
   ]
  },
  {
   "cell_type": "markdown",
   "metadata": {
    "slideshow": {
     "slide_type": "subslide"
    }
   },
   "source": [
    "### For anyone intersted, Jupyter color themes\n",
    "\n",
    "* Check out this repo if you want some color themes for your Jupyter:\n",
    "    - https://github.com/dunovank/jupyter-themes\n",
    "\n",
    "* After installation, you will need to change the PATH variable to use it:\n",
    "    - https://linuxize.com/post/how-to-add-directory-to-path-in-linux/\n",
    "\n",
    "* The theme setting I like to use is:\n",
    "    - jt -T -N -kl -cellw 1050 -tfs 11 -nfs 11 -t chesterish"
   ]
  },
  {
   "cell_type": "markdown",
   "metadata": {
    "slideshow": {
     "slide_type": "slide"
    }
   },
   "source": [
    "# Part 1 - Some Work With Arrays\n",
    "---"
   ]
  },
  {
   "cell_type": "markdown",
   "metadata": {
    "slideshow": {
     "slide_type": "subslide"
    }
   },
   "source": [
    "Create an array that runs from 0 to 50 (included), with steps of 5 as below:\n",
    "\n",
    "0, 5, 10, ..., 45, 50"
   ]
  },
  {
   "cell_type": "code",
   "execution_count": null,
   "metadata": {
    "slideshow": {
     "slide_type": "fragment"
    }
   },
   "outputs": [],
   "source": [
    "# np.arange(0, 50+1, 5)\n",
    "np.arange(0, 51, 5)"
   ]
  },
  {
   "cell_type": "code",
   "execution_count": null,
   "metadata": {
    "slideshow": {
     "slide_type": "fragment"
    }
   },
   "outputs": [],
   "source": [
    "# Another way of doing it for the interested\n",
    "np.linspace(0, 50, 11)"
   ]
  },
  {
   "cell_type": "markdown",
   "metadata": {
    "slideshow": {
     "slide_type": "skip"
    }
   },
   "source": [
    "What are the differences compared to arange?"
   ]
  },
  {
   "cell_type": "markdown",
   "metadata": {
    "slideshow": {
     "slide_type": "skip"
    }
   },
   "source": [
    "* Instead of step size, we give number of elements\n",
    "* Elements default to floats\n",
    "* When we put the range 0,50 both 0 and 50 are included"
   ]
  },
  {
   "cell_type": "markdown",
   "metadata": {
    "slideshow": {
     "slide_type": "subslide"
    }
   },
   "source": [
    "Make the last 5 elements of the below array negative"
   ]
  },
  {
   "cell_type": "code",
   "execution_count": null,
   "metadata": {
    "slideshow": {
     "slide_type": "fragment"
    }
   },
   "outputs": [],
   "source": [
    "my_array = np.arange(0, 51, 5)\n",
    "my_array"
   ]
  },
  {
   "cell_type": "code",
   "execution_count": null,
   "metadata": {
    "slideshow": {
     "slide_type": "fragment"
    }
   },
   "outputs": [],
   "source": [
    "my_array[-5:] = my_array[-5:] * -1\n",
    "my_array"
   ]
  },
  {
   "cell_type": "code",
   "execution_count": null,
   "metadata": {
    "slideshow": {
     "slide_type": "subslide"
    }
   },
   "outputs": [],
   "source": [
    "ones_array = np.ones(5)\n",
    "ones_array"
   ]
  },
  {
   "cell_type": "code",
   "execution_count": null,
   "metadata": {
    "slideshow": {
     "slide_type": "fragment"
    }
   },
   "outputs": [],
   "source": [
    "zeros_array = np.zeros(5)\n",
    "zeros_array"
   ]
  },
  {
   "cell_type": "markdown",
   "metadata": {
    "slideshow": {
     "slide_type": "subslide"
    }
   },
   "source": [
    "Given two arrays `a` and `b`, return array `c` with the elements:\n",
    "\n",
    "$$ c =  a ^ b $$\n"
   ]
  },
  {
   "cell_type": "code",
   "execution_count": null,
   "metadata": {
    "slideshow": {
     "slide_type": "fragment"
    }
   },
   "outputs": [],
   "source": [
    "ones_array = np.ones(5)\n",
    "ones_array"
   ]
  },
  {
   "cell_type": "code",
   "execution_count": null,
   "metadata": {
    "slideshow": {
     "slide_type": "fragment"
    }
   },
   "outputs": [],
   "source": [
    "a = np.ones(5) * 2\n",
    "a"
   ]
  },
  {
   "cell_type": "code",
   "execution_count": null,
   "metadata": {
    "slideshow": {
     "slide_type": "fragment"
    }
   },
   "outputs": [],
   "source": [
    "b = np.arange(5)\n",
    "b"
   ]
  },
  {
   "cell_type": "code",
   "execution_count": null,
   "metadata": {
    "slideshow": {
     "slide_type": "fragment"
    }
   },
   "outputs": [],
   "source": [
    "c = a ** b\n",
    "c"
   ]
  },
  {
   "cell_type": "markdown",
   "metadata": {
    "slideshow": {
     "slide_type": "subslide"
    }
   },
   "source": [
    "Given two arrays, find their median value"
   ]
  },
  {
   "cell_type": "code",
   "execution_count": null,
   "metadata": {
    "slideshow": {
     "slide_type": "fragment"
    }
   },
   "outputs": [],
   "source": [
    "a = np.arange(5)\n",
    "b = np.arange(15,21) * -21\n",
    "print(a)\n",
    "print(b)"
   ]
  },
  {
   "cell_type": "markdown",
   "metadata": {
    "slideshow": {
     "slide_type": "fragment"
    }
   },
   "source": [
    "Hint: `np.concatenate((array1, array2))` concetenates two arrays"
   ]
  },
  {
   "cell_type": "code",
   "execution_count": null,
   "metadata": {
    "slideshow": {
     "slide_type": "subslide"
    }
   },
   "outputs": [],
   "source": [
    "c = np.concatenate((a,b))\n",
    "c"
   ]
  },
  {
   "cell_type": "markdown",
   "metadata": {},
   "source": [
    "One alternative, sort the array and find the middle element"
   ]
  },
  {
   "cell_type": "code",
   "execution_count": null,
   "metadata": {
    "slideshow": {
     "slide_type": "fragment"
    }
   },
   "outputs": [],
   "source": [
    "c.sort()\n",
    "c"
   ]
  },
  {
   "cell_type": "code",
   "execution_count": null,
   "metadata": {
    "slideshow": {
     "slide_type": "fragment"
    }
   },
   "outputs": [],
   "source": [
    "c[len(c) / 2]"
   ]
  },
  {
   "cell_type": "code",
   "execution_count": null,
   "metadata": {
    "slideshow": {
     "slide_type": "subslide"
    }
   },
   "outputs": [],
   "source": [
    "# Normal division: /\n",
    "# Integer division: //\n",
    "print(len(c) / 2)\n",
    "print(len(c) // 2)"
   ]
  },
  {
   "cell_type": "code",
   "execution_count": null,
   "metadata": {
    "slideshow": {
     "slide_type": "fragment"
    }
   },
   "outputs": [],
   "source": [
    "c[len(c) // 2]"
   ]
  },
  {
   "cell_type": "markdown",
   "metadata": {
    "slideshow": {
     "slide_type": "subslide"
    }
   },
   "source": [
    "Better and safer alternative, use a built in function:\n",
    "\n",
    "`np.median()`"
   ]
  },
  {
   "cell_type": "code",
   "execution_count": null,
   "metadata": {
    "slideshow": {
     "slide_type": "fragment"
    }
   },
   "outputs": [],
   "source": [
    "np.median(c)"
   ]
  },
  {
   "cell_type": "markdown",
   "metadata": {
    "slideshow": {
     "slide_type": "fragment"
    }
   },
   "source": [
    "Much easier, and safer. Always try looking for built-in functions for basic\n",
    "tasks such as finding max, median, summing etc."
   ]
  },
  {
   "cell_type": "markdown",
   "metadata": {
    "slideshow": {
     "slide_type": "slide"
    }
   },
   "source": [
    "# Part 2 - Some Work With Toy Tables\n",
    "---\n",
    "\n",
    "Tables are a handy way to store a bunch of related data.\n",
    "\n",
    "Let's create our own table using the *datascience package* and play around with it a bit."
   ]
  },
  {
   "cell_type": "markdown",
   "metadata": {
    "slideshow": {
     "slide_type": "subslide"
    }
   },
   "source": [
    "As we saw before, we can create a new, empty table by calling bpd.DataFrame(). "
   ]
  },
  {
   "cell_type": "code",
   "execution_count": null,
   "metadata": {
    "slideshow": {
     "slide_type": "fragment"
    }
   },
   "outputs": [],
   "source": [
    "df = bpd.DataFrame()\n",
    "print(df)"
   ]
  },
  {
   "cell_type": "markdown",
   "metadata": {
    "slideshow": {
     "slide_type": "fragment"
    }
   },
   "source": [
    "## We will usually be reading tables from csv files, but let's create a filled table ourself"
   ]
  },
  {
   "cell_type": "markdown",
   "metadata": {
    "slideshow": {
     "slide_type": "fragment"
    }
   },
   "source": [
    "There are many ways to fill in a table, such as by adding rows / columns (or importing from a .csv file).\n",
    "\n",
    "Adding rows / columns is a simple way, so let's work on it"
   ]
  },
  {
   "cell_type": "markdown",
   "metadata": {
    "slideshow": {
     "slide_type": "subslide"
    }
   },
   "source": [
    "Let's create two columns for our Table (DataFrame):"
   ]
  },
  {
   "cell_type": "code",
   "execution_count": null,
   "metadata": {
    "slideshow": {
     "slide_type": "fragment"
    }
   },
   "outputs": [],
   "source": [
    "numbers = np.arange(10)\n",
    "powers = 2 ** (numbers)\n",
    "print('Numbers:', numbers)\n",
    "print('Powers:', powers)"
   ]
  },
  {
   "cell_type": "code",
   "execution_count": null,
   "metadata": {
    "slideshow": {
     "slide_type": "skip"
    }
   },
   "outputs": [],
   "source": [
    "# Notice print function is printing the np arrays differently then when you just run them on a cell.\n",
    "# If you want to print them in the same format you can use:\n",
    "print('Numbers:', numbers.__repr__())\n",
    "print('Powers:', powers.__repr__())\n",
    "# For the curious, __repr__() here is a special method\n",
    "# It is an advanced topic not part of DSC-10"
   ]
  },
  {
   "cell_type": "markdown",
   "metadata": {
    "slideshow": {
     "slide_type": "slide"
    }
   },
   "source": [
    "We can use the `assign` method of DataFrame to add named columns.\n",
    "\n",
    "We add each column in the format: `column_name, [data]`\n",
    "\n",
    "The values in a column of a table should have **the same type**, so it makes sense to use np.array where possible!"
   ]
  },
  {
   "cell_type": "code",
   "execution_count": null,
   "metadata": {
    "slideshow": {
     "slide_type": "fragment"
    }
   },
   "outputs": [],
   "source": [
    "my_df = bpd.DataFrame().assign(\n",
    "    EXPONENTS = numbers,\n",
    "    POWERS = powers\n",
    ")\n",
    "my_df"
   ]
  },
  {
   "cell_type": "markdown",
   "metadata": {
    "slideshow": {
     "slide_type": "subslide"
    }
   },
   "source": [
    "Don't forget to reassign to the variable, or your changes will **not** be saved!"
   ]
  },
  {
   "cell_type": "code",
   "execution_count": null,
   "metadata": {
    "slideshow": {
     "slide_type": "fragment"
    }
   },
   "outputs": [],
   "source": [
    "# We should reassign the result of each assign() call to a variable to save it\n",
    "# Below is a wrong way to do it\n",
    "bigger_df = bpd.DataFrame()\n",
    "bigger_df.assign(NUMBERS = np.array([2,3,4,1,5]))\n",
    "bigger_df.assign(OTHER_NUMBERS = np.arange(5))\n",
    "# Notice the bigger_df DataFrame is empty\n",
    "print(bigger_df)"
   ]
  },
  {
   "cell_type": "code",
   "execution_count": null,
   "metadata": {
    "slideshow": {
     "slide_type": "subslide"
    }
   },
   "outputs": [],
   "source": [
    "# We should reassign the result of each assign() call to a variable to save it\n",
    "# Below is the correct way to do it\n",
    "bigger_df = bpd.DataFrame()\n",
    "bigger_df = bigger_df.assign(NUMBERS = np.array([2,3,4,1,5]))\n",
    "bigger_df = bigger_df.assign(OTHER_NUMBERS = np.arange(5))\n",
    "bigger_df"
   ]
  },
  {
   "cell_type": "markdown",
   "metadata": {
    "slideshow": {
     "slide_type": "subslide"
    }
   },
   "source": [
    "Let's keep on adding, by chaining our calls to assing() as:\n",
    "```Python\n",
    "df = df.assign(__).assign(__).assign(__) # __ is placeholder of a column\n",
    "```"
   ]
  },
  {
   "cell_type": "markdown",
   "metadata": {
    "slideshow": {
     "slide_type": "skip"
    }
   },
   "source": [
    "We can use the 'backslash \\' character to divide a single line into multiple lines.\n",
    "For example the two versions of the code below are the same:\n",
    "```Python\n",
    "df = df.assign(__).assign(__).assign(__)\n",
    "```\n",
    "```Python\n",
    "df = df.assign(__) \\\n",
    "       .assign(__) \\\n",
    "       .assign(__)\n",
    "```\n",
    "We do not need to do the indentation as above, but it is the customary way to do it"
   ]
  },
  {
   "cell_type": "code",
   "execution_count": null,
   "metadata": {
    "slideshow": {
     "slide_type": "fragment"
    }
   },
   "outputs": [],
   "source": [
    "bigger_df = \\\n",
    "bigger_df.assign(STRINGS = np.array([\"this\",\"is\",\"a\",\"string\",\"column\"])) \\\n",
    "         .assign(BOOLEANS = np.array([False, False, True, True, False])) \\\n",
    "         .assign(SOME_VARS = [[14,2],\"hey\",True,3.2,2])\n",
    "bigger_df"
   ]
  },
  {
   "cell_type": "markdown",
   "metadata": {
    "slideshow": {
     "slide_type": "skip"
    }
   },
   "source": [
    "We can't always chain function calls like this in python.\n",
    "\n",
    "In this case what enables us to chain `assign()` operations like this?"
   ]
  },
  {
   "cell_type": "markdown",
   "metadata": {
    "slideshow": {
     "slide_type": "skip"
    }
   },
   "source": [
    "After each call, `assign()` method returns the modified DataFrame,\n",
    "\n",
    "that is why we can chain assign methods."
   ]
  },
  {
   "cell_type": "markdown",
   "metadata": {
    "slideshow": {
     "slide_type": "subslide"
    }
   },
   "source": [
    "We can now do any table operations that we want to this table.\n",
    "\n",
    "For example we can sort the columns.\n",
    "\n",
    "What columns can we use to sort by? Are we restricted at all?"
   ]
  },
  {
   "cell_type": "markdown",
   "metadata": {
    "slideshow": {
     "slide_type": "fragment"
    }
   },
   "source": [
    "How about:\n",
    "```Python\n",
    "bigger_df.sort_values(by='BOOLEANS')\n",
    "```"
   ]
  },
  {
   "cell_type": "code",
   "execution_count": null,
   "metadata": {
    "slideshow": {
     "slide_type": "fragment"
    }
   },
   "outputs": [],
   "source": [
    "bigger_df.sort_values(by='BOOLEANS')"
   ]
  },
  {
   "cell_type": "markdown",
   "metadata": {
    "slideshow": {
     "slide_type": "subslide"
    }
   },
   "source": [
    "What about:\n",
    "```Python\n",
    "bigger_df.sort_values(by='STRINGS')\n",
    "```"
   ]
  },
  {
   "cell_type": "code",
   "execution_count": null,
   "metadata": {
    "slideshow": {
     "slide_type": "fragment"
    }
   },
   "outputs": [],
   "source": [
    "bigger_df.sort_values(by='STRINGS')"
   ]
  },
  {
   "cell_type": "markdown",
   "metadata": {
    "slideshow": {
     "slide_type": "subslide"
    }
   },
   "source": [
    "Finally, what about:\n",
    "```Python\n",
    "bigger_df.sort_values(by='SOME_VARS')\n",
    "```"
   ]
  },
  {
   "cell_type": "code",
   "execution_count": null,
   "metadata": {
    "slideshow": {
     "slide_type": "fragment"
    }
   },
   "outputs": [],
   "source": [
    "bigger_df.sort_values(by='SOME_VARS')"
   ]
  },
  {
   "cell_type": "markdown",
   "metadata": {
    "slideshow": {
     "slide_type": "slide"
    }
   },
   "source": [
    "We can get a column of data by calling `get` on the DataFrame object.  \n",
    "We should pass in the argument `column_name`; the name of the column we want."
   ]
  },
  {
   "cell_type": "code",
   "execution_count": null,
   "metadata": {
    "slideshow": {
     "slide_type": "fragment"
    }
   },
   "outputs": [],
   "source": [
    "help(bpd.DataFrame.get)"
   ]
  },
  {
   "cell_type": "code",
   "execution_count": null,
   "metadata": {
    "slideshow": {
     "slide_type": "subslide"
    }
   },
   "outputs": [],
   "source": [
    "bigger_df.get(\"NUMBERS\")"
   ]
  },
  {
   "cell_type": "code",
   "execution_count": null,
   "metadata": {
    "slideshow": {
     "slide_type": "fragment"
    }
   },
   "outputs": [],
   "source": [
    "bigger_df.get(\"BOOLEANS\")"
   ]
  },
  {
   "cell_type": "code",
   "execution_count": null,
   "metadata": {
    "slideshow": {
     "slide_type": "fragment"
    }
   },
   "outputs": [],
   "source": [
    "bigger_df.get(\"SOME_VARS\")"
   ]
  },
  {
   "cell_type": "markdown",
   "metadata": {
    "slideshow": {
     "slide_type": "subslide"
    }
   },
   "source": [
    "Notice the data type of each column, stated by the `dtype` identifier. \n",
    "\n",
    "For the `SOME_VARS` column, baby pandas automatically assigned the datatype `object`\n",
    "\n",
    "to keep the column's data type uniform."
   ]
  },
  {
   "cell_type": "markdown",
   "metadata": {
    "slideshow": {
     "slide_type": "fragment"
    }
   },
   "source": [
    "`Object` is the most generic type in python, it can represent any type of object.\n",
    "\n",
    "Although we have this generalist type, it is best if we use a single fixed column data type\n",
    "\n",
    "such as *int*, *float*, *string* etc."
   ]
  },
  {
   "cell_type": "markdown",
   "metadata": {
    "slideshow": {
     "slide_type": "subslide"
    }
   },
   "source": [
    "So let's remove this column from our DataFrame to be consistent. \n",
    "\n",
    "We can use the `drop()` method to do this"
   ]
  },
  {
   "cell_type": "code",
   "execution_count": null,
   "metadata": {
    "slideshow": {
     "slide_type": "fragment"
    }
   },
   "outputs": [],
   "source": [
    "bigger_df.drop(columns=\"SOME_VARS\")\n",
    "bigger_df"
   ]
  },
  {
   "cell_type": "markdown",
   "metadata": {
    "slideshow": {
     "slide_type": "fragment"
    }
   },
   "source": [
    "Why didn't it work?"
   ]
  },
  {
   "cell_type": "code",
   "execution_count": null,
   "metadata": {
    "slideshow": {
     "slide_type": "subslide"
    }
   },
   "outputs": [],
   "source": [
    "bigger_df = bigger_df.drop(columns=\"SOME_VARS\")\n",
    "bigger_df"
   ]
  },
  {
   "cell_type": "markdown",
   "metadata": {
    "slideshow": {
     "slide_type": "fragment"
    }
   },
   "source": [
    "By using the `get()` function we can get columns as `Series` objects.\n",
    "\n",
    "Notice the difference between a `DataFrame` and `Series`\n",
    "\n",
    "* Table: DataFrame\n",
    "* Column: Series"
   ]
  },
  {
   "cell_type": "code",
   "execution_count": null,
   "metadata": {
    "slideshow": {
     "slide_type": "fragment"
    }
   },
   "outputs": [],
   "source": [
    "bigger_df.get(NUMBERS) * 100"
   ]
  },
  {
   "cell_type": "markdown",
   "metadata": {
    "slideshow": {
     "slide_type": "fragment"
    }
   },
   "source": [
    "What went wrong this time?"
   ]
  },
  {
   "cell_type": "code",
   "execution_count": null,
   "metadata": {
    "slideshow": {
     "slide_type": "subslide"
    }
   },
   "outputs": [],
   "source": [
    "bigger_df.get(\"NUMBERS\") * 100"
   ]
  },
  {
   "cell_type": "markdown",
   "metadata": {
    "slideshow": {
     "slide_type": "fragment"
    }
   },
   "source": [
    "Did the corresponding column in `bigger_df` change?"
   ]
  },
  {
   "cell_type": "code",
   "execution_count": null,
   "metadata": {
    "slideshow": {
     "slide_type": "fragment"
    }
   },
   "outputs": [],
   "source": [
    "bigger_df"
   ]
  },
  {
   "cell_type": "markdown",
   "metadata": {
    "slideshow": {
     "slide_type": "fragment"
    }
   },
   "source": [
    "We should use the `assign()` method if we want to change the column."
   ]
  },
  {
   "cell_type": "markdown",
   "metadata": {
    "slideshow": {
     "slide_type": "subslide"
    }
   },
   "source": [
    "Any questions until now?"
   ]
  },
  {
   "cell_type": "markdown",
   "metadata": {
    "slideshow": {
     "slide_type": "slide"
    }
   },
   "source": [
    "# Part 3 - Working on real data (finally!)\n",
    "--- \n",
    "Let's start using some real world data"
   ]
  },
  {
   "cell_type": "markdown",
   "metadata": {
    "slideshow": {
     "slide_type": "subslide"
    }
   },
   "source": [
    "# Ultimate Halloween Candy Showdown\n",
    "---\n",
    "269,000 user submitted winners of head to head candy matchups"
   ]
  },
  {
   "cell_type": "code",
   "execution_count": null,
   "metadata": {
    "slideshow": {
     "slide_type": "fragment"
    }
   },
   "outputs": [],
   "source": [
    "candy = bpd.read_csv(\"data/candy.csv\")\n",
    "candy"
   ]
  },
  {
   "cell_type": "code",
   "execution_count": null,
   "metadata": {
    "slideshow": {
     "slide_type": "subslide"
    }
   },
   "outputs": [],
   "source": [
    "candy = candy.set_index(\"competitorname\")"
   ]
  },
  {
   "cell_type": "code",
   "execution_count": null,
   "metadata": {
    "slideshow": {
     "slide_type": "fragment"
    }
   },
   "outputs": [],
   "source": [
    "candy.take(np.arange(5))"
   ]
  },
  {
   "cell_type": "code",
   "execution_count": null,
   "metadata": {
    "scrolled": false,
    "slideshow": {
     "slide_type": "slide"
    }
   },
   "outputs": [],
   "source": [
    "import seaborn as sns\n",
    "import matplotlib.pyplot as plt\n",
    "%matplotlib inline\n",
    "candy = candy.sort_values(by = \"winpercent\", ascending=False)\n",
    "plt.figure(figsize=(20,8))\n",
    "x = candy.index.to_numpy()\n",
    "y = candy.get(\"winpercent\").to_numpy()\n",
    "sns.barplot(x, y)\n",
    "plt.xticks(rotation=\"vertical\");"
   ]
  },
  {
   "cell_type": "markdown",
   "metadata": {
    "slideshow": {
     "slide_type": "subslide"
    }
   },
   "source": [
    "Plot the top 20 companies by winpercent, for easier readability."
   ]
  },
  {
   "cell_type": "code",
   "execution_count": null,
   "metadata": {
    "slideshow": {
     "slide_type": "fragment"
    }
   },
   "outputs": [],
   "source": [
    "array_cutoff = 20\n",
    "x = candy.index.to_numpy()[:array_cutoff]\n",
    "y = candy.get(\"winpercent\").to_numpy()[:array_cutoff]\n",
    "sns.barplot(x, y)\n",
    "plt.xticks(rotation=\"vertical\");\n",
    "plt.ylim(bottom = 50)\n",
    "plt.show()"
   ]
  },
  {
   "cell_type": "markdown",
   "metadata": {
    "slideshow": {
     "slide_type": "subslide"
    }
   },
   "source": [
    "# Let's go over some basic operations we can do on the columns of this dataset\n",
    "---\n",
    "\n",
    "By getting familiar with our dataset, it should be easier for us to answer questions we have a bit later."
   ]
  },
  {
   "cell_type": "markdown",
   "metadata": {
    "slideshow": {
     "slide_type": "fragment"
    }
   },
   "source": [
    "Some of the functions we can use are: \n",
    "```Python\n",
    "bpd.DataFrame.get()\n",
    "bpd.DataFrame.sort_values()\n",
    "bpd.DataFrame.assign()\n",
    "bpd.DataFrame.drop()\n",
    "bpd.DataFrame.set_index()\n",
    "bpd.Series.loc[]\n",
    "bpd.Series.iloc[]\n",
    "bpd.Series.aggragate() # aggragate may be replaced by any other aggragating function\n",
    "# And more...\n",
    "```"
   ]
  },
  {
   "cell_type": "markdown",
   "metadata": {
    "slideshow": {
     "slide_type": "subslide"
    }
   },
   "source": [
    "If we need any more information, we can always use help"
   ]
  },
  {
   "cell_type": "code",
   "execution_count": null,
   "metadata": {
    "slideshow": {
     "slide_type": "fragment"
    }
   },
   "outputs": [],
   "source": [
    "# Notice while calling help, we don't put parantheses after sort_values\n",
    "help(bpd.DataFrame.sort_values)"
   ]
  },
  {
   "cell_type": "markdown",
   "metadata": {
    "slideshow": {
     "slide_type": "subslide"
    }
   },
   "source": [
    "Find the candy brand(s) which have winrates between 25 to 30. How should we proceed?"
   ]
  },
  {
   "cell_type": "markdown",
   "metadata": {
    "slideshow": {
     "slide_type": "fragment"
    }
   },
   "source": [
    "We should first create a boolean mask that returns True if winpercent is between 25 to 30\n",
    "\n",
    "Then we can use this boolean mask to index the DataFrame `candy`."
   ]
  },
  {
   "cell_type": "code",
   "execution_count": null,
   "metadata": {
    "slideshow": {
     "slide_type": "fragment"
    }
   },
   "outputs": [],
   "source": [
    "boolean_mask = (20 <= candy.get(\"winpercent\")).to_numpy() \\\n",
    "                & (candy.get(\"winpercent\") <= 30).to_numpy()\n",
    "print(boolean_mask)"
   ]
  },
  {
   "cell_type": "markdown",
   "metadata": {
    "slideshow": {
     "slide_type": "subslide"
    }
   },
   "source": [
    "We can count how many elements we will get at this point.\n",
    "\n",
    "An alternative to count: By using the `sum()` function of the `Series` object.\n",
    "\n",
    "Will this work? The Series contains boolean variables."
   ]
  },
  {
   "cell_type": "code",
   "execution_count": null,
   "metadata": {
    "slideshow": {
     "slide_type": "fragment"
    }
   },
   "outputs": [],
   "source": [
    "brand_count = (boolean_mask).sum()\n",
    "brand_count"
   ]
  },
  {
   "cell_type": "markdown",
   "metadata": {
    "slideshow": {
     "slide_type": "fragment"
    }
   },
   "source": [
    "While summing the boolean values, it will treat *True* as 1, *False* as 0"
   ]
  },
  {
   "cell_type": "markdown",
   "metadata": {
    "slideshow": {
     "slide_type": "subslide"
    }
   },
   "source": [
    "What if we do it the way below:\n",
    "```Python\n",
    "brand_count = sum(boolean_mask)\n",
    "brand_count\n",
    "```\n",
    "Will it work correctly?"
   ]
  },
  {
   "cell_type": "code",
   "execution_count": null,
   "metadata": {
    "slideshow": {
     "slide_type": "fragment"
    }
   },
   "outputs": [],
   "source": [
    "brand_count = sum(boolean_mask)\n",
    "brand_count"
   ]
  },
  {
   "cell_type": "code",
   "execution_count": null,
   "metadata": {
    "slideshow": {
     "slide_type": "fragment"
    }
   },
   "outputs": [],
   "source": [
    "type(boolean_mask)"
   ]
  },
  {
   "cell_type": "markdown",
   "metadata": {
    "slideshow": {
     "slide_type": "fragment"
    }
   },
   "source": [
    "We should be using the .sum() function of the Series object.\n",
    "\n",
    "For numpy arrays and lists we could use the builtin sum() of Python and get away with it, although it is slower.\n",
    "\n",
    "For the Series objects this is not the case."
   ]
  },
  {
   "cell_type": "code",
   "execution_count": null,
   "metadata": {
    "slideshow": {
     "slide_type": "subslide"
    }
   },
   "outputs": [],
   "source": [
    "boolean_mask = (20 <= candy.get(\"winpercent\")).to_numpy() \\\n",
    "                & (candy.get(\"winpercent\") <= 30).to_numpy()\n",
    "candy[boolean_mask]"
   ]
  },
  {
   "cell_type": "markdown",
   "metadata": {
    "slideshow": {
     "slide_type": "subslide"
    }
   },
   "source": [
    "Get the sugar percent of the top 10 and worst 10 brands (by winpercent)\n",
    "\n",
    "How to proceed?"
   ]
  },
  {
   "cell_type": "code",
   "execution_count": null,
   "metadata": {
    "slideshow": {
     "slide_type": "fragment"
    }
   },
   "outputs": [],
   "source": [
    "candy = candy.sort_values(by = \"winpercent\", ascending=False)\n",
    "top10_winrates = candy.get([\"winpercent\", \"sugarpercent\"]).iloc[:10]\n",
    "top10_winrates"
   ]
  },
  {
   "cell_type": "code",
   "execution_count": null,
   "metadata": {
    "slideshow": {
     "slide_type": "fragment"
    }
   },
   "outputs": [],
   "source": [
    "bottom10 = candy.get([\"winpercent\", \"sugarpercent\"]).iloc[-10:]\n",
    "bottom10"
   ]
  },
  {
   "cell_type": "markdown",
   "metadata": {
    "slideshow": {
     "slide_type": "subslide"
    }
   },
   "source": [
    "Do you think winpercent would be related to sugarpercent?\n",
    "\n",
    "Let's plot winpercent and sugarpercent on a scatterplot to see if we can see a pattern"
   ]
  },
  {
   "cell_type": "code",
   "execution_count": null,
   "metadata": {
    "slideshow": {
     "slide_type": "fragment"
    }
   },
   "outputs": [],
   "source": [
    "import matplotlib.pyplot as plt\n",
    "# Plot winrate vs sugarrate\n",
    "x = candy.get(\"winpercent\")\n",
    "y = candy.get(\"sugarpercent\")\n",
    "plt.scatter(x,y)\n",
    "plt.xlabel(\"winpercent\")\n",
    "plt.ylabel(\"sugarpercent\")\n",
    "plt.title(\"Winpercent vs Sugarpercent\")"
   ]
  },
  {
   "cell_type": "markdown",
   "metadata": {
    "slideshow": {
     "slide_type": "fragment"
    }
   },
   "source": [
    "It is hard to see a clear correlation from the plot.\n",
    "\n",
    "We need deeper analysis to find the answer."
   ]
  },
  {
   "cell_type": "markdown",
   "metadata": {
    "slideshow": {
     "slide_type": "slide"
    }
   },
   "source": [
    "# More Data Examples!\n",
    "---\n",
    "\n",
    "This data was compiled from a number of queries from the NOAA (National Oceanic and Atmospheric Administration) website. Contains average monthly temperature for 9 different regions from 2000 to 2018.\n",
    "\n",
    "NOAA National Centers for Environmental information, Climate at a Glance: Regional Time Series, published October 2018, retrieved on October 18, 2018 from https://www.ncdc.noaa.gov/cag/"
   ]
  },
  {
   "cell_type": "code",
   "execution_count": null,
   "metadata": {
    "slideshow": {
     "slide_type": "fragment"
    }
   },
   "outputs": [],
   "source": [
    "temps = bpd.read_csv(\"data/temperatures.csv\")\n",
    "temps"
   ]
  },
  {
   "cell_type": "markdown",
   "metadata": {
    "slideshow": {
     "slide_type": "fragment"
    }
   },
   "source": [
    "It contains a `Year` (2000 to 2018), `Month` (1 to 12), `Region` (a climate region), and `Average Temperature` (the average temperature for that year/month/region in degrees Farenheit)."
   ]
  },
  {
   "cell_type": "markdown",
   "metadata": {
    "slideshow": {
     "slide_type": "fragment"
    }
   },
   "source": [
    "We can't set a new index as there are no unique value among the columns."
   ]
  },
  {
   "cell_type": "code",
   "execution_count": null,
   "metadata": {
    "slideshow": {
     "slide_type": "subslide"
    }
   },
   "outputs": [],
   "source": [
    "# As a helping hand to get started, let's find out what regions we have\n",
    "np.unique(temps.get(\"Region\"))"
   ]
  },
  {
   "cell_type": "markdown",
   "metadata": {
    "slideshow": {
     "slide_type": "slide"
    }
   },
   "source": [
    "# Let's play around with the dataset\n",
    "---"
   ]
  },
  {
   "cell_type": "markdown",
   "metadata": {
    "slideshow": {
     "slide_type": "subslide"
    }
   },
   "source": [
    "Show only data for the region `Ohio Valley`\n",
    "```Python\n",
    "region = \"Ohio Valley Climate Region\"\n",
    "```"
   ]
  },
  {
   "cell_type": "code",
   "execution_count": null,
   "metadata": {
    "slideshow": {
     "slide_type": "fragment"
    }
   },
   "outputs": [],
   "source": [
    "region = \"Ohio Valley Climate Region\"\n",
    "mask = temps.get(\"Region\") == region\n",
    "print(\"No of datapoints in Ohio:\", mask.sum(), end='\\n\\n')\n",
    "print(mask)"
   ]
  },
  {
   "cell_type": "code",
   "execution_count": null,
   "metadata": {
    "slideshow": {
     "slide_type": "fragment"
    }
   },
   "outputs": [],
   "source": [
    "# find the data for just one region\n",
    "temps[mask]"
   ]
  },
  {
   "cell_type": "markdown",
   "metadata": {
    "slideshow": {
     "slide_type": "subslide"
    }
   },
   "source": [
    "Find the maximum average temperature for each region:\n",
    "(using `groupby`)"
   ]
  },
  {
   "cell_type": "code",
   "execution_count": null,
   "metadata": {
    "slideshow": {
     "slide_type": "fragment"
    }
   },
   "outputs": [],
   "source": [
    "temps.groupby(\"Region\").max()"
   ]
  },
  {
   "cell_type": "markdown",
   "metadata": {
    "slideshow": {
     "slide_type": "subslide"
    }
   },
   "source": [
    "Find the maximum average temperature for each year including and after 2010"
   ]
  },
  {
   "cell_type": "code",
   "execution_count": null,
   "metadata": {
    "slideshow": {
     "slide_type": "fragment"
    }
   },
   "outputs": [],
   "source": [
    "temps_after_05 = temps[temps.get(\"Year\") >= 2010]\n",
    "temps_after_05.groupby(\"Year\").mean()"
   ]
  },
  {
   "cell_type": "markdown",
   "metadata": {
    "slideshow": {
     "slide_type": "subslide"
    }
   },
   "source": [
    "Find the maximum average temperature for each year between 2000 to 2005\n",
    "for the `West Climate Region`"
   ]
  },
  {
   "cell_type": "code",
   "execution_count": null,
   "metadata": {
    "slideshow": {
     "slide_type": "fragment"
    }
   },
   "outputs": [],
   "source": [
    "region = \"West Climate Region\"\n",
    "mask1 = temps.get(\"Region\") == region\n",
    "temps_new = temps[mask1]\n",
    "mask2 = 2000 <= temps_new.get(\"Year\") <= 2005\n",
    "temps_new = temps_new[mask2]\n",
    "temps_new.groupby(\"Year\").max()"
   ]
  },
  {
   "cell_type": "code",
   "execution_count": null,
   "metadata": {
    "slideshow": {
     "slide_type": "subslide"
    }
   },
   "outputs": [],
   "source": [
    "# find the average temperature for each month\n",
    "temps.groupby(\"Month\").mean()"
   ]
  },
  {
   "cell_type": "markdown",
   "metadata": {
    "slideshow": {
     "slide_type": "fragment"
    }
   },
   "source": [
    "What's up with the year column?"
   ]
  },
  {
   "cell_type": "code",
   "execution_count": null,
   "metadata": {
    "slideshow": {
     "slide_type": "fragment"
    }
   },
   "outputs": [],
   "source": [
    "temps.drop(columns = \"Year\").groupby(\"Month\").mean()"
   ]
  },
  {
   "cell_type": "code",
   "execution_count": null,
   "metadata": {},
   "outputs": [],
   "source": []
  }
 ],
 "metadata": {
  "celltoolbar": "Slideshow",
  "kernelspec": {
   "display_name": "Python 3",
   "language": "python",
   "name": "python3"
  },
  "language_info": {
   "codemirror_mode": {
    "name": "ipython",
    "version": 3
   },
   "file_extension": ".py",
   "mimetype": "text/x-python",
   "name": "python",
   "nbconvert_exporter": "python",
   "pygments_lexer": "ipython3",
   "version": "3.6.7"
  }
 },
 "nbformat": 4,
 "nbformat_minor": 2
}
