{
 "cells": [
  {
   "cell_type": "code",
   "execution_count": null,
   "metadata": {
    "slideshow": {
     "slide_type": "skip"
    }
   },
   "outputs": [],
   "source": [
    "import babypandas as bpd\n",
    "import numpy as np\n",
    "import seaborn as sns\n",
    "import matplotlib.pyplot as plt\n",
    "%matplotlib inline\n",
    "\n",
    "from notebook.services.config import ConfigManager\n",
    "\n",
    "cm = ConfigManager()\n",
    "cm.update(\n",
    "    \"livereveal\", {\n",
    "        'width': 1500,\n",
    "        'height': 700,\n",
    "        \"scroll\": True,\n",
    "})"
   ]
  },
  {
   "cell_type": "markdown",
   "metadata": {
    "slideshow": {
     "slide_type": "slide"
    }
   },
   "source": [
    "# DSC 10 Discussion Week 4\n",
    "---\n",
    "\n",
    "This notebook is quite long, so we might have to go over some parts quickly. \n",
    "\n",
    "The full solutions will be uploaded, so if you miss something, you can always go back and check."
   ]
  },
  {
   "cell_type": "markdown",
   "metadata": {
    "slideshow": {
     "slide_type": "subslide"
    }
   },
   "source": [
    "# Practice With Merge"
   ]
  },
  {
   "cell_type": "markdown",
   "metadata": {},
   "source": [
    "Let's create two tables to practice merge on"
   ]
  },
  {
   "cell_type": "code",
   "execution_count": null,
   "metadata": {
    "slideshow": {
     "slide_type": "fragment"
    }
   },
   "outputs": [],
   "source": [
    "people = bpd.DataFrame().assign(\n",
    "    name = [\"kyle\",\"jill\",\"cole\",\"alex\"],\n",
    "    age  = [24,22,21,24],\n",
    "    city = [\"San Diego\",\"LA\",\"San Francisco\",\"Irvine\"]\n",
    "    )\n",
    "people"
   ]
  },
  {
   "cell_type": "code",
   "execution_count": null,
   "metadata": {},
   "outputs": [],
   "source": [
    "cities = bpd.DataFrame().assign(\n",
    "    name = [\"San Diego\", \"LA\", \"San Francisco\",\"Denver\",\"New York\"],\n",
    "    popular_food  = [\"California Burrito\", \"Tacos\", \"Sourdough\", \"Denver Omelete\", \"Cheesecake\"]\n",
    "    )\n",
    "cities"
   ]
  },
  {
   "cell_type": "markdown",
   "metadata": {
    "slideshow": {
     "slide_type": "subslide"
    }
   },
   "source": [
    "## How to merge people with cities? How many rows will there be?"
   ]
  },
  {
   "cell_type": "code",
   "execution_count": null,
   "metadata": {},
   "outputs": [],
   "source": [
    "people"
   ]
  },
  {
   "cell_type": "code",
   "execution_count": null,
   "metadata": {},
   "outputs": [],
   "source": [
    "cities"
   ]
  },
  {
   "cell_type": "markdown",
   "metadata": {},
   "source": [
    "Let's merge the tables using the column *name* on each side. How many rows will be there?"
   ]
  },
  {
   "cell_type": "code",
   "execution_count": null,
   "metadata": {
    "scrolled": true
   },
   "outputs": [],
   "source": [
    "people.merge(...)"
   ]
  },
  {
   "cell_type": "markdown",
   "metadata": {},
   "source": [
    "How many rows will there be? How will the common name columns be handled?"
   ]
  },
  {
   "cell_type": "markdown",
   "metadata": {},
   "source": [
    "Let's merge the tables using the column *city* on the left, and *name* on the right."
   ]
  },
  {
   "cell_type": "code",
   "execution_count": null,
   "metadata": {},
   "outputs": [],
   "source": [
    "people.merge(...)"
   ]
  },
  {
   "cell_type": "markdown",
   "metadata": {},
   "source": [
    "Dropping the duplicate column"
   ]
  },
  {
   "cell_type": "code",
   "execution_count": null,
   "metadata": {},
   "outputs": [],
   "source": [
    "people.merge(cities, left_on='city', right_on='name').drop(columns = \"name_y\")"
   ]
  },
  {
   "cell_type": "markdown",
   "metadata": {
    "slideshow": {
     "slide_type": "fragment"
    }
   },
   "source": [
    "## Let's add in another table and try the merge with it"
   ]
  },
  {
   "cell_type": "code",
   "execution_count": null,
   "metadata": {},
   "outputs": [],
   "source": [
    "people"
   ]
  },
  {
   "cell_type": "code",
   "execution_count": null,
   "metadata": {},
   "outputs": [],
   "source": [
    "birthdays = bpd.DataFrame().assign(\n",
    "    age = [21,21,22,24],\n",
    "    importance = [\"Legal Drinking Age\", \"Officially an Adult\", \"Taylor Swift Song\", \"Kyle's Age\"]\n",
    "    )\n",
    "birthdays"
   ]
  },
  {
   "cell_type": "code",
   "execution_count": null,
   "metadata": {
    "slideshow": {
     "slide_type": "fragment"
    }
   },
   "outputs": [],
   "source": [
    "people.merge(birthdays, left_on='age', right_on='age')"
   ]
  },
  {
   "cell_type": "markdown",
   "metadata": {},
   "source": [
    "# Groupby & conditionals, loops on dataset"
   ]
  },
  {
   "cell_type": "markdown",
   "metadata": {
    "slideshow": {
     "slide_type": "slide"
    }
   },
   "source": [
    "# Olympic Athletes\n",
    "---\n",
    "\n",
    "From kaggle user Randi H Griffin:\n",
    ">This is a historical dataset on the modern Olympic Games, including all the Games from Athens 1896 to Rio 2016. I scraped this data from www.sports-reference.com in May 2018. The R code I used to scrape and wrangle the data is on GitHub. I recommend checking my kernel before starting your own analysis.\n",
    ">\n",
    ">Note that the Winter and Summer Games were held in the same year up until 1992. After that, they staggered them such that Winter Games occur on a four year cycle starting with 1994, then Summer in 1996, then Winter in 1998, and so on. A common mistake people make when analyzing this data is to assume that the Summer and Winter Games have always been staggered.\n",
    "Content\n",
    ">\n",
    ">The file athlete_events.csv contains 271116 rows and 15 columns. Each row corresponds to an individual athlete competing in an individual Olympic event (athlete-events). The columns are:\n",
    ">\n",
    ">1. ID - Unique number for each athlete  \n",
    ">2. Name - Athlete's name  \n",
    ">3. Sex - M or F  \n",
    ">4. Age - Integer  \n",
    ">5. Height - In centimeters  \n",
    ">6. Weight - In kilograms  \n",
    ">7. Team - Team name  \n",
    ">8. NOC - National Olympic Committee 3-letter code  \n",
    ">9. Games - Year and season  \n",
    ">10. Year - Integer  \n",
    ">11. Season - Summer or Winter  \n",
    ">12. City - Host city  \n",
    ">13. Sport - Sport  \n",
    ">14. Event - Event  \n",
    ">15. Medal - Gold, Silver, Bronze, or NA  \n"
   ]
  },
  {
   "cell_type": "code",
   "execution_count": null,
   "metadata": {
    "slideshow": {
     "slide_type": "subslide"
    }
   },
   "outputs": [],
   "source": [
    "data = bpd.read_csv(\"data/athlete_events.csv\")\n",
    "data.take(np.arange(3))\n",
    "# data.columns"
   ]
  },
  {
   "cell_type": "markdown",
   "metadata": {
    "slideshow": {
     "slide_type": "subslide"
    }
   },
   "source": [
    "# Something familiar, let's assign points to each country\n",
    "---\n",
    "\n",
    "Let's say we're assigning points to each country based on the number of Golds, Silvers, and Bronzes they've won.\n",
    "\n",
    "Medals are with the following amount of points:\n",
    "\n",
    "<pre>\n",
    "  Gold    +5 pts\n",
    "  Silver  +3 pts\n",
    "  Bronze  +2 pts\n",
    "  nan     0 pts\n",
    "</pre>"
   ]
  },
  {
   "cell_type": "markdown",
   "metadata": {},
   "source": [
    "Let's do it in a different way than the homework 3"
   ]
  },
  {
   "cell_type": "markdown",
   "metadata": {},
   "source": [
    "Create a function medal_to_points(medal), that returns an integer point for a given medal string."
   ]
  },
  {
   "cell_type": "code",
   "execution_count": null,
   "metadata": {},
   "outputs": [],
   "source": [
    "def medal_to_points(medal):\n",
    "    ..."
   ]
  },
  {
   "cell_type": "code",
   "execution_count": null,
   "metadata": {},
   "outputs": [],
   "source": [
    "# medal_to_points(\"Gold\")   returns 5\n",
    "# medal_to_points(\"Bronze\") returns 2\n",
    "# medal_to_points(\"Arda\")   returns 0"
   ]
  },
  {
   "cell_type": "code",
   "execution_count": null,
   "metadata": {
    "slideshow": {
     "slide_type": "subslide"
    }
   },
   "outputs": [],
   "source": [
    "def medal_to_points(medal):\n",
    "    if ...\n",
    "        return ...\n",
    "    elif ...\n",
    "        return ...\n",
    "    elif ...\n",
    "        return 2\n",
    "    else:\n",
    "        return 0"
   ]
  },
  {
   "cell_type": "code",
   "execution_count": null,
   "metadata": {},
   "outputs": [],
   "source": [
    "print(medal_to_points(\"Gold\"))\n",
    "print(medal_to_points(\"Bronze\"))\n",
    "print(medal_to_points(\"Arda\"))"
   ]
  },
  {
   "cell_type": "markdown",
   "metadata": {},
   "source": [
    "In  the design above, we would need an if statement for every type of medal we have. \n",
    "\n",
    "We can do a better version, with fewer if statements. (The function will be correct either way)."
   ]
  },
  {
   "cell_type": "code",
   "execution_count": null,
   "metadata": {},
   "outputs": [],
   "source": [
    "medals = [\"Gold\", \"Silver\", \"Bronze\"]\n",
    "points = [5, 3, 2]\n",
    "medal_dict = dict(zip(medals, points))\n",
    "medal_dict"
   ]
  },
  {
   "cell_type": "code",
   "execution_count": null,
   "metadata": {},
   "outputs": [],
   "source": [
    "def medal_to_points_v2(medal):\n",
    "    medals = [\"Gold\", \"Silver\", \"Bronze\"]\n",
    "    points = [5, 3, 2]\n",
    "    medal_dict = dict(zip(medals, points))\n",
    "    \n",
    "    if medal in medal_dict:\n",
    "        return ...\n",
    "    else:\n",
    "        return 0"
   ]
  },
  {
   "cell_type": "code",
   "execution_count": null,
   "metadata": {},
   "outputs": [],
   "source": [
    "print(medal_to_points_v2(\"Gold\"))\n",
    "print(medal_to_points_v2(\"Bronze\"))\n",
    "print(medal_to_points_v2(\"Arda\"))"
   ]
  },
  {
   "cell_type": "markdown",
   "metadata": {
    "slideshow": {
     "slide_type": "subslide"
    }
   },
   "source": [
    "Okay, now we need to apply thit function to our table.\n",
    "\n",
    "What does `apply` return again?  And how will we use what it returns?"
   ]
  },
  {
   "cell_type": "code",
   "execution_count": null,
   "metadata": {},
   "outputs": [],
   "source": [
    "# Removing older datapoints to keep it more managable\n",
    "data_after = data[data.get(\"Year\") >= 2010]"
   ]
  },
  {
   "cell_type": "code",
   "execution_count": null,
   "metadata": {
    "slideshow": {
     "slide_type": "fragment"
    }
   },
   "outputs": [],
   "source": [
    "points_column = data_after.get(\"Medal\").apply(medal_to_points)\n",
    "data_with_points = data_after.assign(Points = points_column)\n",
    "data_with_points.take(np.arange(10,15))"
   ]
  },
  {
   "cell_type": "markdown",
   "metadata": {
    "slideshow": {
     "slide_type": "subslide"
    }
   },
   "source": [
    "We don't need all the data in the table, to find the countries with the highest points."
   ]
  },
  {
   "cell_type": "code",
   "execution_count": null,
   "metadata": {
    "slideshow": {
     "slide_type": "fragment"
    }
   },
   "outputs": [],
   "source": [
    "# Select relevant columns\n",
    "country_points = data_with_points.get([\"NOC\", \"Points\"]).sort_values(by = \"Points\", ascending = False)\n",
    "country_points"
   ]
  },
  {
   "cell_type": "markdown",
   "metadata": {
    "slideshow": {
     "slide_type": "subslide"
    }
   },
   "source": [
    "Easy question: how do we find the total amount of points scored by each country?"
   ]
  },
  {
   "cell_type": "code",
   "execution_count": null,
   "metadata": {
    "slideshow": {
     "slide_type": "fragment"
    }
   },
   "outputs": [],
   "source": [
    "# Group by country\n",
    "scores = ...\n",
    "scores.sort_values(by = \"Points\", ascending=False)"
   ]
  },
  {
   "cell_type": "markdown",
   "metadata": {
    "slideshow": {
     "slide_type": "subslide"
    }
   },
   "source": [
    "# Something familiar, top 5 countries entries count?\n",
    "---\n",
    "\n",
    "Let's choose 5 countries and only work with their data. We should use the NOC column. We are looking to see how many entries these 5 countries have in total."
   ]
  },
  {
   "cell_type": "code",
   "execution_count": null,
   "metadata": {
    "slideshow": {
     "slide_type": "fragment"
    }
   },
   "outputs": [],
   "source": [
    "included_countries = [\"USA\", \"CHN\", \"RUS\", \"GBR\", \"GER\"]"
   ]
  },
  {
   "cell_type": "markdown",
   "metadata": {
    "slideshow": {
     "slide_type": "subslide"
    }
   },
   "source": [
    "We have already added points to the entire dataset based on the Medal placement, so let's just get our countries from that `data_with_points` table."
   ]
  },
  {
   "cell_type": "markdown",
   "metadata": {},
   "source": [
    "## Solution #1 with apply"
   ]
  },
  {
   "cell_type": "code",
   "execution_count": null,
   "metadata": {},
   "outputs": [],
   "source": [
    "def in_included(country): # function to use in apply()\n",
    "    return ...\n",
    "print(in_included(\"USA\"))\n",
    "print(in_included(\"CAN\"))"
   ]
  },
  {
   "cell_type": "code",
   "execution_count": null,
   "metadata": {
    "slideshow": {
     "slide_type": "fragment"
    }
   },
   "outputs": [],
   "source": [
    "# Solution #1\n",
    "countries = data_with_points[...]\n",
    "countries.take(np.arange(5))"
   ]
  },
  {
   "cell_type": "markdown",
   "metadata": {},
   "source": [
    "Now that we have only the relevant countries, let's get the sum of their points"
   ]
  },
  {
   "cell_type": "code",
   "execution_count": null,
   "metadata": {},
   "outputs": [],
   "source": [
    "countries.groupby(\"NOC\").sum().get(\"Points\").sort_values(ascending = False)"
   ]
  },
  {
   "cell_type": "markdown",
   "metadata": {},
   "source": [
    "## Solution #2 with merge"
   ]
  },
  {
   "cell_type": "markdown",
   "metadata": {},
   "source": [
    "Let's create an empty table with the country names we wan't"
   ]
  },
  {
   "cell_type": "code",
   "execution_count": null,
   "metadata": {
    "slideshow": {
     "slide_type": "fragment"
    }
   },
   "outputs": [],
   "source": [
    "inc_countries = bpd.DataFrame().assign(NOC = included_countries)\n",
    "inc_countries"
   ]
  },
  {
   "cell_type": "code",
   "execution_count": null,
   "metadata": {
    "slideshow": {
     "slide_type": "fragment"
    }
   },
   "outputs": [],
   "source": [
    "countries = data_with_points.merge(...)\n",
    "countries.take(np.arange(5))"
   ]
  },
  {
   "cell_type": "code",
   "execution_count": null,
   "metadata": {},
   "outputs": [],
   "source": [
    "countries.groupby(\"NOC\").sum().get(\"Points\").sort_values(ascending = False)"
   ]
  },
  {
   "cell_type": "markdown",
   "metadata": {},
   "source": [
    "## Groupby with multiple columns"
   ]
  },
  {
   "cell_type": "markdown",
   "metadata": {},
   "source": [
    "For each country (among all countries), for each sport played by that country, count how many data points we have."
   ]
  },
  {
   "cell_type": "markdown",
   "metadata": {},
   "source": [
    "|NOC|Sport|# Entries|\n",
    "|--------|--------|--------|\n",
    "|USA|Basketball |10 |\n",
    "|USA|Swimming |5 | \n",
    "|USA|Curling |0 |\n",
    "|CAN|Swimming |0 | \n",
    "|CAN|Curling |6|\n",
    "|...|... |...|\n",
    "\n",
    "etc."
   ]
  },
  {
   "cell_type": "code",
   "execution_count": null,
   "metadata": {},
   "outputs": [],
   "source": [
    "( \n",
    "    data_with_points ...\n",
    "                  ...\n",
    "                  ...\n",
    "                  .reset_index()\n",
    "                  ... # NOC, Sport, ID\n",
    ")"
   ]
  },
  {
   "cell_type": "markdown",
   "metadata": {},
   "source": [
    "# Probability and Experiments"
   ]
  },
  {
   "cell_type": "markdown",
   "metadata": {},
   "source": [
    "## Prob. Problem 1"
   ]
  },
  {
   "cell_type": "markdown",
   "metadata": {},
   "source": [
    "Easy question probability wise: We throw a fair die (meaning all outcomes are equally likely). What is the probability that the resulting number is divisible by 3."
   ]
  },
  {
   "cell_type": "code",
   "execution_count": null,
   "metadata": {},
   "outputs": [],
   "source": [
    "# required outcomes / # all outcomes\n",
    "# required outcomes: 0, 3, 6\n",
    "# all outcomes: 0, 1, 2, 3, 4, 5\n",
    "..."
   ]
  },
  {
   "cell_type": "markdown",
   "metadata": {},
   "source": [
    "How about a d20 dice (20 sided dice, sides ranging from 1 to 20) Let's count it with python:"
   ]
  },
  {
   "cell_type": "code",
   "execution_count": null,
   "metadata": {},
   "outputs": [],
   "source": [
    "die_values = range(1,20 + 1)\n",
    "[i for i in die_values]"
   ]
  },
  {
   "cell_type": "code",
   "execution_count": null,
   "metadata": {},
   "outputs": [],
   "source": [
    "count = 0\n",
    "for ...\n",
    "    if ...\n",
    "        print(side, end=', ')\n",
    "        count += 1\n",
    "count"
   ]
  },
  {
   "cell_type": "markdown",
   "metadata": {},
   "source": [
    "Let's find the probability according to our counts"
   ]
  },
  {
   "cell_type": "code",
   "execution_count": null,
   "metadata": {},
   "outputs": [],
   "source": [
    "total_count = len(die_values)\n",
    "div3_probability = ...\n",
    "div3_probability"
   ]
  },
  {
   "cell_type": "markdown",
   "metadata": {},
   "source": [
    "For many problems we face, we can't plausibly count all the outcomes this way. \n",
    "\n",
    "In such cases we have to run experiments to decide on empricial probability values."
   ]
  },
  {
   "cell_type": "markdown",
   "metadata": {},
   "source": [
    " Let's try to find the result we just obtained experimentally, without counting every possible outcome."
   ]
  },
  {
   "cell_type": "code",
   "execution_count": null,
   "metadata": {},
   "outputs": [],
   "source": [
    "import random\n",
    "\n",
    "die_values = range(1,20 + 1)\n",
    "def div_by3_experiment(runs):\n",
    "        samples = np.random.choice(...)\n",
    "        relevant_outcomes = ...\n",
    "        return sum(relevant_outcomes) "
   ]
  },
  {
   "cell_type": "code",
   "execution_count": null,
   "metadata": {},
   "outputs": [],
   "source": [
    "div_by3_experiment(1)"
   ]
  },
  {
   "cell_type": "code",
   "execution_count": null,
   "metadata": {},
   "outputs": [],
   "source": [
    "div_by3_experiment(10)"
   ]
  },
  {
   "cell_type": "code",
   "execution_count": null,
   "metadata": {},
   "outputs": [],
   "source": [
    "div_by3_experiment(100)"
   ]
  },
  {
   "cell_type": "code",
   "execution_count": null,
   "metadata": {},
   "outputs": [],
   "source": [
    "runs = 10_000\n",
    "empirical_prob = div_by3_experiment(runs) / runs\n",
    "empirical_prob"
   ]
  },
  {
   "cell_type": "code",
   "execution_count": null,
   "metadata": {},
   "outputs": [],
   "source": [
    "runs = 1_000_000\n",
    "empirical_prob = div_by3_experiment(runs) / runs\n",
    "empirical_prob"
   ]
  },
  {
   "cell_type": "markdown",
   "metadata": {},
   "source": [
    "As you can see, we are getting closer and closer to the correct value of 0.3.\n",
    "\n",
    "(In this case, we know the correct value by our precise counting from earlier)."
   ]
  },
  {
   "cell_type": "markdown",
   "metadata": {},
   "source": [
    "## Prob. Problem 2"
   ]
  },
  {
   "cell_type": "markdown",
   "metadata": {},
   "source": [
    "Different problem, we are rolling *two* D6 dice (each has 6 sides). \n",
    "\n",
    "What is the probability that the sum of the numbers will be even?"
   ]
  },
  {
   "cell_type": "markdown",
   "metadata": {},
   "source": [
    "Let's first think mathematically and count the results. \n",
    "\n",
    "To have an even number, we should either add two even numbers, or two odd numbers."
   ]
  },
  {
   "cell_type": "markdown",
   "metadata": {},
   "source": [
    "Two possibilities:\n",
    "* Both are even 3 * 3 = 9 possibilities (0,2,4)\n",
    "* Both are odd  3 * 3 = 9 possibilities (1,3,5)\n",
    "\n",
    "\n",
    "9 + 9 = 18 possibilities (half of the total 36)"
   ]
  },
  {
   "cell_type": "markdown",
   "metadata": {},
   "source": [
    "Let's use python to confirm by counting"
   ]
  },
  {
   "cell_type": "code",
   "execution_count": null,
   "metadata": {},
   "outputs": [],
   "source": [
    "die_values = range(1,6+1)\n",
    "\n",
    "def even_count(die_values):\n",
    "    count = 0\n",
    "    for die1 in die_values:\n",
    "        for die2 in die_values:\n",
    "            dice_sum = ...\n",
    "            count += ...\n",
    "    return count\n",
    "\n",
    "even_count(die_values)"
   ]
  },
  {
   "cell_type": "code",
   "execution_count": null,
   "metadata": {},
   "outputs": [],
   "source": [
    "total_outcomes = ...\n",
    "probability = even_count(die_values) / total_outcomes\n",
    "probability"
   ]
  },
  {
   "cell_type": "markdown",
   "metadata": {},
   "source": [
    "What if both dice were D20 (20 sides):\n",
    "\n",
    "We are looking for sums that are even and greater than or equal to 30"
   ]
  },
  {
   "cell_type": "code",
   "execution_count": null,
   "metadata": {},
   "outputs": [],
   "source": [
    "def even_count_modified(die_values, lower_lim):\n",
    "    count = 0\n",
    "    for die1 in die_values:\n",
    "        for die2 in die_values:\n",
    "            dice_sum = die1 + die2\n",
    "            if ...\n",
    "                count += dice_sum % 2 == 0\n",
    "    return count\n",
    "\n",
    "die_values = range(1, 20+1)\n",
    "lower_limit = 30\n",
    "event_count = even_count_modified(die_values, lower_limit)\n",
    "event_count"
   ]
  },
  {
   "cell_type": "code",
   "execution_count": null,
   "metadata": {},
   "outputs": [],
   "source": [
    "total_outcomes = len(die_values) ** 2\n",
    "probability = ...\n",
    "probability"
   ]
  },
  {
   "cell_type": "markdown",
   "metadata": {},
   "source": [
    "Let's try to get this result experimentally"
   ]
  },
  {
   "cell_type": "markdown",
   "metadata": {},
   "source": [
    "The sum of the dice should be even, and larger than or equal to lower_lim"
   ]
  },
  {
   "cell_type": "code",
   "execution_count": null,
   "metadata": {},
   "outputs": [],
   "source": [
    "def even_exp(die_values, runs, lower_lim):\n",
    "        die1_samples = np.random.choice(die_values, runs, replace=True)\n",
    "        die2_samples = np.random.choice(die_values, runs, replace=True)\n",
    "        dice_sum = die1_samples + die2_samples\n",
    "        relevant_outcomes = ...\n",
    "        return sum(relevant_outcomes) "
   ]
  },
  {
   "cell_type": "code",
   "execution_count": null,
   "metadata": {},
   "outputs": [],
   "source": [
    "runs = 1_000_000\n",
    "e_count = even_exp(die_values, runs, lower_limit)\n",
    "probability = e_count / runs\n",
    "probability"
   ]
  },
  {
   "cell_type": "markdown",
   "metadata": {},
   "source": [
    "That's pretty close!"
   ]
  },
  {
   "cell_type": "markdown",
   "metadata": {},
   "source": [
    "# One last thing before we go..."
   ]
  },
  {
   "cell_type": "markdown",
   "metadata": {},
   "source": [
    "Warning: Be careful of the difference between:\n",
    "* logical: and, bitwise: &\n",
    "* logical: or,  bitwise: |"
   ]
  },
  {
   "cell_type": "markdown",
   "metadata": {},
   "source": [
    "Let's go over their difference"
   ]
  },
  {
   "cell_type": "code",
   "execution_count": null,
   "metadata": {},
   "outputs": [],
   "source": [
    "True and False"
   ]
  },
  {
   "cell_type": "code",
   "execution_count": null,
   "metadata": {},
   "outputs": [],
   "source": [
    "np.array([True, False, False]) or np.array([False, True, False])"
   ]
  },
  {
   "cell_type": "code",
   "execution_count": null,
   "metadata": {},
   "outputs": [],
   "source": [
    "np.array([True, False, False]) | np.array([False, True, False])"
   ]
  },
  {
   "cell_type": "markdown",
   "metadata": {},
   "source": [
    "* Bitwise operations work compare each element of two boolean arrays\n",
    "* Logical operations compare two single boolean values (not arrays)"
   ]
  },
  {
   "cell_type": "code",
   "execution_count": null,
   "metadata": {},
   "outputs": [],
   "source": []
  }
 ],
 "metadata": {
  "celltoolbar": "Slideshow",
  "kernelspec": {
   "display_name": "Python 3",
   "language": "python",
   "name": "python3"
  },
  "language_info": {
   "codemirror_mode": {
    "name": "ipython",
    "version": 3
   },
   "file_extension": ".py",
   "mimetype": "text/x-python",
   "name": "python",
   "nbconvert_exporter": "python",
   "pygments_lexer": "ipython3",
   "version": "3.6.7"
  }
 },
 "nbformat": 4,
 "nbformat_minor": 2
}
