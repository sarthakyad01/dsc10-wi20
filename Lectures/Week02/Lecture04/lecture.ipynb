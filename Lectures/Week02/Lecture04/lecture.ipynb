{
 "cells": [
  {
   "cell_type": "code",
   "execution_count": 1,
   "metadata": {
    "slideshow": {
     "slide_type": "skip"
    }
   },
   "outputs": [],
   "source": [
    "%matplotlib inline"
   ]
  },
  {
   "cell_type": "markdown",
   "metadata": {
    "slideshow": {
     "slide_type": "slide"
    }
   },
   "source": [
    "# Lecture 4: Tables, pt. II"
   ]
  },
  {
   "cell_type": "code",
   "execution_count": 2,
   "metadata": {},
   "outputs": [],
   "source": [
    "import babypandas as bpd"
   ]
  },
  {
   "cell_type": "markdown",
   "metadata": {
    "slideshow": {
     "slide_type": "slide"
    }
   },
   "source": [
    "# NBA Salaries\n",
    "\n",
    "- The file `nba_salaries.csv` contains all salaries from 2015-2016 NBA season."
   ]
  },
  {
   "cell_type": "code",
   "execution_count": 3,
   "metadata": {},
   "outputs": [
    {
     "data": {
      "text/html": [
       "<div>\n",
       "<style scoped>\n",
       "    .dataframe tbody tr th:only-of-type {\n",
       "        vertical-align: middle;\n",
       "    }\n",
       "\n",
       "    .dataframe tbody tr th {\n",
       "        vertical-align: top;\n",
       "    }\n",
       "\n",
       "    .dataframe thead th {\n",
       "        text-align: right;\n",
       "    }\n",
       "</style>\n",
       "<table border=\"1\" class=\"dataframe\">\n",
       "  <thead>\n",
       "    <tr style=\"text-align: right;\">\n",
       "      <th></th>\n",
       "      <th>POSITION</th>\n",
       "      <th>TEAM</th>\n",
       "      <th>2015_SALARY</th>\n",
       "    </tr>\n",
       "    <tr>\n",
       "      <th>PLAYER</th>\n",
       "      <th></th>\n",
       "      <th></th>\n",
       "      <th></th>\n",
       "    </tr>\n",
       "  </thead>\n",
       "  <tbody>\n",
       "    <tr>\n",
       "      <th>Paul Millsap</th>\n",
       "      <td>PF</td>\n",
       "      <td>Atlanta Hawks</td>\n",
       "      <td>18.671659</td>\n",
       "    </tr>\n",
       "    <tr>\n",
       "      <th>Al Horford</th>\n",
       "      <td>C</td>\n",
       "      <td>Atlanta Hawks</td>\n",
       "      <td>12.000000</td>\n",
       "    </tr>\n",
       "    <tr>\n",
       "      <th>Tiago Splitter</th>\n",
       "      <td>C</td>\n",
       "      <td>Atlanta Hawks</td>\n",
       "      <td>9.756250</td>\n",
       "    </tr>\n",
       "    <tr>\n",
       "      <th>Jeff Teague</th>\n",
       "      <td>PG</td>\n",
       "      <td>Atlanta Hawks</td>\n",
       "      <td>8.000000</td>\n",
       "    </tr>\n",
       "    <tr>\n",
       "      <th>Kyle Korver</th>\n",
       "      <td>SG</td>\n",
       "      <td>Atlanta Hawks</td>\n",
       "      <td>5.746479</td>\n",
       "    </tr>\n",
       "    <tr>\n",
       "      <th>...</th>\n",
       "      <td>...</td>\n",
       "      <td>...</td>\n",
       "      <td>...</td>\n",
       "    </tr>\n",
       "    <tr>\n",
       "      <th>Gary Neal</th>\n",
       "      <td>PG</td>\n",
       "      <td>Washington Wizards</td>\n",
       "      <td>2.139000</td>\n",
       "    </tr>\n",
       "    <tr>\n",
       "      <th>DeJuan Blair</th>\n",
       "      <td>C</td>\n",
       "      <td>Washington Wizards</td>\n",
       "      <td>2.000000</td>\n",
       "    </tr>\n",
       "    <tr>\n",
       "      <th>Kelly Oubre Jr.</th>\n",
       "      <td>SF</td>\n",
       "      <td>Washington Wizards</td>\n",
       "      <td>1.920240</td>\n",
       "    </tr>\n",
       "    <tr>\n",
       "      <th>Garrett Temple</th>\n",
       "      <td>SG</td>\n",
       "      <td>Washington Wizards</td>\n",
       "      <td>1.100602</td>\n",
       "    </tr>\n",
       "    <tr>\n",
       "      <th>Jarell Eddie</th>\n",
       "      <td>SG</td>\n",
       "      <td>Washington Wizards</td>\n",
       "      <td>0.561716</td>\n",
       "    </tr>\n",
       "  </tbody>\n",
       "</table>\n",
       "<p>417 rows × 3 columns</p>\n",
       "</div>"
      ],
      "text/plain": [
       "                POSITION                TEAM  2015_SALARY\n",
       "PLAYER                                                   \n",
       "Paul Millsap          PF       Atlanta Hawks    18.671659\n",
       "Al Horford             C       Atlanta Hawks    12.000000\n",
       "Tiago Splitter         C       Atlanta Hawks     9.756250\n",
       "Jeff Teague           PG       Atlanta Hawks     8.000000\n",
       "Kyle Korver           SG       Atlanta Hawks     5.746479\n",
       "...                  ...                 ...          ...\n",
       "Gary Neal             PG  Washington Wizards     2.139000\n",
       "DeJuan Blair           C  Washington Wizards     2.000000\n",
       "Kelly Oubre Jr.       SF  Washington Wizards     1.920240\n",
       "Garrett Temple        SG  Washington Wizards     1.100602\n",
       "Jarell Eddie          SG  Washington Wizards     0.561716\n",
       "\n",
       "[417 rows x 3 columns]"
      ]
     },
     "execution_count": 3,
     "metadata": {},
     "output_type": "execute_result"
    }
   ],
   "source": [
    "salaries = bpd.read_csv('nba_salaries.csv').set_index('PLAYER')\n",
    "salaries"
   ]
  },
  {
   "cell_type": "markdown",
   "metadata": {
    "slideshow": {
     "slide_type": "slide"
    }
   },
   "source": [
    "## Questions we can answer:\n",
    "\n",
    "- What was the biggest salary?\n",
    "- How many players were there?\n",
    "- What was LeBron James' salary?"
   ]
  },
  {
   "cell_type": "markdown",
   "metadata": {
    "slideshow": {
     "slide_type": "slide"
    }
   },
   "source": [
    "## Questions we'll learn how to answer today:\n",
    "\n",
    "- *Who* had the biggest salary?\n",
    "- Who was the highest paid center?\n",
    "- What is the total payroll of the Cleveland Cavaliers?\n",
    "- What team had the largest combined salary?"
   ]
  },
  {
   "cell_type": "markdown",
   "metadata": {
    "slideshow": {
     "slide_type": "slide"
    }
   },
   "source": [
    "## Recall: getting a column\n",
    "\n",
    "- use `.get(column_label)`\n",
    "- Columns are not DataFrames, they're Series"
   ]
  },
  {
   "cell_type": "code",
   "execution_count": 4,
   "metadata": {},
   "outputs": [
    {
     "data": {
      "text/plain": [
       "PLAYER\n",
       "Paul Millsap       18.671659\n",
       "Al Horford         12.000000\n",
       "Tiago Splitter      9.756250\n",
       "Jeff Teague         8.000000\n",
       "Kyle Korver         5.746479\n",
       "                     ...    \n",
       "Gary Neal           2.139000\n",
       "DeJuan Blair        2.000000\n",
       "Kelly Oubre Jr.     1.920240\n",
       "Garrett Temple      1.100602\n",
       "Jarell Eddie        0.561716\n",
       "Name: 2015_SALARY, Length: 417, dtype: float64"
      ]
     },
     "execution_count": 4,
     "metadata": {},
     "output_type": "execute_result"
    }
   ],
   "source": [
    "salaries.get('2015_SALARY')"
   ]
  },
  {
   "cell_type": "markdown",
   "metadata": {
    "slideshow": {
     "slide_type": "slide"
    }
   },
   "source": [
    "## Recall: getting a particular value from a column\n",
    "\n",
    "- Use `.get(column_label).loc[row_label]`\n",
    "- How much did LeBron James make?"
   ]
  },
  {
   "cell_type": "code",
   "execution_count": 5,
   "metadata": {},
   "outputs": [
    {
     "data": {
      "text/plain": [
       "22.9705"
      ]
     },
     "execution_count": 5,
     "metadata": {},
     "output_type": "execute_result"
    }
   ],
   "source": [
    "salaries.get('2015_SALARY').loc['LeBron James']"
   ]
  },
  {
   "cell_type": "markdown",
   "metadata": {
    "slideshow": {
     "slide_type": "slide"
    }
   },
   "source": [
    "## How to get a particular element from a table:\n",
    "\n",
    "1. `.get()` the column label\n",
    "2. `.loc[]` the row label\n",
    "\n",
    "In this class, we'll always get column, then row (but row, then column is also possible).\n",
    "\n",
    " Example: What position does LeBron play?"
   ]
  },
  {
   "cell_type": "code",
   "execution_count": 6,
   "metadata": {},
   "outputs": [
    {
     "data": {
      "text/plain": [
       "'SF'"
      ]
     },
     "execution_count": 6,
     "metadata": {},
     "output_type": "execute_result"
    }
   ],
   "source": [
    "#- use .get() then .loc[]\n",
    "salaries.get('POSITION').loc['LeBron James']"
   ]
  },
  {
   "cell_type": "markdown",
   "metadata": {
    "slideshow": {
     "slide_type": "slide"
    }
   },
   "source": [
    "## Recall: Salary Analysis\n",
    "\n",
    "- What was the biggest/smallest salary? What was the average salary?\n",
    "- *Series* have helpful methods, like `.min()`, `.max()`, `.mean()`, etc."
   ]
  },
  {
   "cell_type": "code",
   "execution_count": 7,
   "metadata": {},
   "outputs": [
    {
     "data": {
      "text/plain": [
       "0.030888"
      ]
     },
     "execution_count": 7,
     "metadata": {},
     "output_type": "execute_result"
    }
   ],
   "source": [
    "salaries.get('2015_SALARY').min()"
   ]
  },
  {
   "cell_type": "code",
   "execution_count": 8,
   "metadata": {},
   "outputs": [
    {
     "data": {
      "text/plain": [
       "25.0"
      ]
     },
     "execution_count": 8,
     "metadata": {},
     "output_type": "execute_result"
    }
   ],
   "source": [
    "salaries.get('2015_SALARY').max()"
   ]
  },
  {
   "cell_type": "code",
   "execution_count": 9,
   "metadata": {},
   "outputs": [
    {
     "data": {
      "text/plain": [
       "5.074814482014388"
      ]
     },
     "execution_count": 9,
     "metadata": {},
     "output_type": "execute_result"
    }
   ],
   "source": [
    "salaries.get('2015_SALARY').mean()"
   ]
  },
  {
   "cell_type": "markdown",
   "metadata": {
    "slideshow": {
     "slide_type": "slide"
    }
   },
   "source": [
    "## Use Case: *Who* had the biggest salary?\n",
    "\n",
    "- Strategy: Sort the table by salary and take the name at the top"
   ]
  },
  {
   "cell_type": "markdown",
   "metadata": {
    "slideshow": {
     "slide_type": "slide"
    }
   },
   "source": [
    "### Step 1) Sort the table\n",
    "\n",
    "- Use the `.sort_values(by=column_name)` method to sort.\n",
    "- **Notice:** Creates a new table.\n",
    "- Everything works as expected, but we wanted *descending* order."
   ]
  },
  {
   "cell_type": "code",
   "execution_count": 10,
   "metadata": {},
   "outputs": [
    {
     "data": {
      "text/html": [
       "<div>\n",
       "<style scoped>\n",
       "    .dataframe tbody tr th:only-of-type {\n",
       "        vertical-align: middle;\n",
       "    }\n",
       "\n",
       "    .dataframe tbody tr th {\n",
       "        vertical-align: top;\n",
       "    }\n",
       "\n",
       "    .dataframe thead th {\n",
       "        text-align: right;\n",
       "    }\n",
       "</style>\n",
       "<table border=\"1\" class=\"dataframe\">\n",
       "  <thead>\n",
       "    <tr style=\"text-align: right;\">\n",
       "      <th></th>\n",
       "      <th>POSITION</th>\n",
       "      <th>TEAM</th>\n",
       "      <th>2015_SALARY</th>\n",
       "    </tr>\n",
       "    <tr>\n",
       "      <th>PLAYER</th>\n",
       "      <th></th>\n",
       "      <th></th>\n",
       "      <th></th>\n",
       "    </tr>\n",
       "  </thead>\n",
       "  <tbody>\n",
       "    <tr>\n",
       "      <th>Thanasis Antetokounmpo</th>\n",
       "      <td>SF</td>\n",
       "      <td>New York Knicks</td>\n",
       "      <td>0.030888</td>\n",
       "    </tr>\n",
       "    <tr>\n",
       "      <th>Cory Jefferson</th>\n",
       "      <td>PF</td>\n",
       "      <td>Phoenix Suns</td>\n",
       "      <td>0.049709</td>\n",
       "    </tr>\n",
       "    <tr>\n",
       "      <th>Jordan McRae</th>\n",
       "      <td>SG</td>\n",
       "      <td>Phoenix Suns</td>\n",
       "      <td>0.049709</td>\n",
       "    </tr>\n",
       "    <tr>\n",
       "      <th>Orlando Johnson</th>\n",
       "      <td>SG</td>\n",
       "      <td>Phoenix Suns</td>\n",
       "      <td>0.055722</td>\n",
       "    </tr>\n",
       "    <tr>\n",
       "      <th>Phil Pressey</th>\n",
       "      <td>PG</td>\n",
       "      <td>Phoenix Suns</td>\n",
       "      <td>0.055722</td>\n",
       "    </tr>\n",
       "    <tr>\n",
       "      <th>...</th>\n",
       "      <td>...</td>\n",
       "      <td>...</td>\n",
       "      <td>...</td>\n",
       "    </tr>\n",
       "    <tr>\n",
       "      <th>Dwight Howard</th>\n",
       "      <td>C</td>\n",
       "      <td>Houston Rockets</td>\n",
       "      <td>22.359364</td>\n",
       "    </tr>\n",
       "    <tr>\n",
       "      <th>Carmelo Anthony</th>\n",
       "      <td>SF</td>\n",
       "      <td>New York Knicks</td>\n",
       "      <td>22.875000</td>\n",
       "    </tr>\n",
       "    <tr>\n",
       "      <th>LeBron James</th>\n",
       "      <td>SF</td>\n",
       "      <td>Cleveland Cavaliers</td>\n",
       "      <td>22.970500</td>\n",
       "    </tr>\n",
       "    <tr>\n",
       "      <th>Joe Johnson</th>\n",
       "      <td>SF</td>\n",
       "      <td>Brooklyn Nets</td>\n",
       "      <td>24.894863</td>\n",
       "    </tr>\n",
       "    <tr>\n",
       "      <th>Kobe Bryant</th>\n",
       "      <td>SF</td>\n",
       "      <td>Los Angeles Lakers</td>\n",
       "      <td>25.000000</td>\n",
       "    </tr>\n",
       "  </tbody>\n",
       "</table>\n",
       "<p>417 rows × 3 columns</p>\n",
       "</div>"
      ],
      "text/plain": [
       "                       POSITION                 TEAM  2015_SALARY\n",
       "PLAYER                                                           \n",
       "Thanasis Antetokounmpo       SF      New York Knicks     0.030888\n",
       "Cory Jefferson               PF         Phoenix Suns     0.049709\n",
       "Jordan McRae                 SG         Phoenix Suns     0.049709\n",
       "Orlando Johnson              SG         Phoenix Suns     0.055722\n",
       "Phil Pressey                 PG         Phoenix Suns     0.055722\n",
       "...                         ...                  ...          ...\n",
       "Dwight Howard                 C      Houston Rockets    22.359364\n",
       "Carmelo Anthony              SF      New York Knicks    22.875000\n",
       "LeBron James                 SF  Cleveland Cavaliers    22.970500\n",
       "Joe Johnson                  SF        Brooklyn Nets    24.894863\n",
       "Kobe Bryant                  SF   Los Angeles Lakers    25.000000\n",
       "\n",
       "[417 rows x 3 columns]"
      ]
     },
     "execution_count": 10,
     "metadata": {},
     "output_type": "execute_result"
    }
   ],
   "source": [
    "salaries.sort_values(by='2015_SALARY')"
   ]
  },
  {
   "cell_type": "markdown",
   "metadata": {
    "slideshow": {
     "slide_type": "slide"
    }
   },
   "source": [
    "### Step 1) Sorting the table in *descending* order\n",
    "\n",
    "- Use `.sort_values(by=column_name, ascending=False)` to sort in *descending* order"
   ]
  },
  {
   "cell_type": "code",
   "execution_count": 11,
   "metadata": {},
   "outputs": [
    {
     "data": {
      "text/html": [
       "<div>\n",
       "<style scoped>\n",
       "    .dataframe tbody tr th:only-of-type {\n",
       "        vertical-align: middle;\n",
       "    }\n",
       "\n",
       "    .dataframe tbody tr th {\n",
       "        vertical-align: top;\n",
       "    }\n",
       "\n",
       "    .dataframe thead th {\n",
       "        text-align: right;\n",
       "    }\n",
       "</style>\n",
       "<table border=\"1\" class=\"dataframe\">\n",
       "  <thead>\n",
       "    <tr style=\"text-align: right;\">\n",
       "      <th></th>\n",
       "      <th>POSITION</th>\n",
       "      <th>TEAM</th>\n",
       "      <th>2015_SALARY</th>\n",
       "    </tr>\n",
       "    <tr>\n",
       "      <th>PLAYER</th>\n",
       "      <th></th>\n",
       "      <th></th>\n",
       "      <th></th>\n",
       "    </tr>\n",
       "  </thead>\n",
       "  <tbody>\n",
       "    <tr>\n",
       "      <th>Kobe Bryant</th>\n",
       "      <td>SF</td>\n",
       "      <td>Los Angeles Lakers</td>\n",
       "      <td>25.000000</td>\n",
       "    </tr>\n",
       "    <tr>\n",
       "      <th>Joe Johnson</th>\n",
       "      <td>SF</td>\n",
       "      <td>Brooklyn Nets</td>\n",
       "      <td>24.894863</td>\n",
       "    </tr>\n",
       "    <tr>\n",
       "      <th>LeBron James</th>\n",
       "      <td>SF</td>\n",
       "      <td>Cleveland Cavaliers</td>\n",
       "      <td>22.970500</td>\n",
       "    </tr>\n",
       "    <tr>\n",
       "      <th>Carmelo Anthony</th>\n",
       "      <td>SF</td>\n",
       "      <td>New York Knicks</td>\n",
       "      <td>22.875000</td>\n",
       "    </tr>\n",
       "    <tr>\n",
       "      <th>Dwight Howard</th>\n",
       "      <td>C</td>\n",
       "      <td>Houston Rockets</td>\n",
       "      <td>22.359364</td>\n",
       "    </tr>\n",
       "    <tr>\n",
       "      <th>...</th>\n",
       "      <td>...</td>\n",
       "      <td>...</td>\n",
       "      <td>...</td>\n",
       "    </tr>\n",
       "    <tr>\n",
       "      <th>Elliot Williams</th>\n",
       "      <td>SG</td>\n",
       "      <td>Memphis Grizzlies</td>\n",
       "      <td>0.055722</td>\n",
       "    </tr>\n",
       "    <tr>\n",
       "      <th>Orlando Johnson</th>\n",
       "      <td>SG</td>\n",
       "      <td>Phoenix Suns</td>\n",
       "      <td>0.055722</td>\n",
       "    </tr>\n",
       "    <tr>\n",
       "      <th>Cory Jefferson</th>\n",
       "      <td>PF</td>\n",
       "      <td>Phoenix Suns</td>\n",
       "      <td>0.049709</td>\n",
       "    </tr>\n",
       "    <tr>\n",
       "      <th>Jordan McRae</th>\n",
       "      <td>SG</td>\n",
       "      <td>Phoenix Suns</td>\n",
       "      <td>0.049709</td>\n",
       "    </tr>\n",
       "    <tr>\n",
       "      <th>Thanasis Antetokounmpo</th>\n",
       "      <td>SF</td>\n",
       "      <td>New York Knicks</td>\n",
       "      <td>0.030888</td>\n",
       "    </tr>\n",
       "  </tbody>\n",
       "</table>\n",
       "<p>417 rows × 3 columns</p>\n",
       "</div>"
      ],
      "text/plain": [
       "                       POSITION                 TEAM  2015_SALARY\n",
       "PLAYER                                                           \n",
       "Kobe Bryant                  SF   Los Angeles Lakers    25.000000\n",
       "Joe Johnson                  SF        Brooklyn Nets    24.894863\n",
       "LeBron James                 SF  Cleveland Cavaliers    22.970500\n",
       "Carmelo Anthony              SF      New York Knicks    22.875000\n",
       "Dwight Howard                 C      Houston Rockets    22.359364\n",
       "...                         ...                  ...          ...\n",
       "Elliot Williams              SG    Memphis Grizzlies     0.055722\n",
       "Orlando Johnson              SG         Phoenix Suns     0.055722\n",
       "Cory Jefferson               PF         Phoenix Suns     0.049709\n",
       "Jordan McRae                 SG         Phoenix Suns     0.049709\n",
       "Thanasis Antetokounmpo       SF      New York Knicks     0.030888\n",
       "\n",
       "[417 rows x 3 columns]"
      ]
     },
     "execution_count": 11,
     "metadata": {},
     "output_type": "execute_result"
    }
   ],
   "source": [
    "highest_salaries = salaries.sort_values(by='2015_SALARY', ascending=False)\n",
    "highest_salaries"
   ]
  },
  {
   "cell_type": "markdown",
   "metadata": {
    "slideshow": {
     "slide_type": "slide"
    }
   },
   "source": [
    "### Step 2) Get the *name* of the person with the highest salary\n",
    "\n",
    "- We saw that is was Kobe, but how do we get the name using code?\n",
    "- Remember, the index is an array"
   ]
  },
  {
   "cell_type": "code",
   "execution_count": 12,
   "metadata": {},
   "outputs": [
    {
     "data": {
      "text/plain": [
       "'Kobe Bryant'"
      ]
     },
     "execution_count": 12,
     "metadata": {},
     "output_type": "execute_result"
    }
   ],
   "source": [
    "highest_salaries.index[0]"
   ]
  },
  {
   "cell_type": "markdown",
   "metadata": {
    "slideshow": {
     "slide_type": "slide"
    }
   },
   "source": [
    "## Discussion Question\n",
    "\n",
    "Suppose we didn't know how to sort in descending order. Which of these would still work?\n",
    "\n",
    "- a) `salaries.sort_values(by='2015_SALARY')[max()]`\n",
    "- b) `salaries.sort_values(by='2015_SALARY').index[0]`\n",
    "- c) `salaries.sort_values(by='2015_SALARY').loc[max]`\n",
    "- a) `salaries.sort_values(by='2015_SALARY').index[-1]`"
   ]
  },
  {
   "cell_type": "markdown",
   "metadata": {
    "slideshow": {
     "slide_type": "slide"
    }
   },
   "source": [
    "## Answer: (d)"
   ]
  },
  {
   "cell_type": "code",
   "execution_count": 13,
   "metadata": {},
   "outputs": [
    {
     "data": {
      "text/plain": [
       "'Kobe Bryant'"
      ]
     },
     "execution_count": 13,
     "metadata": {},
     "output_type": "execute_result"
    }
   ],
   "source": [
    "salaries.sort_values(by='2015_SALARY').index[-1]"
   ]
  },
  {
   "cell_type": "markdown",
   "metadata": {
    "slideshow": {
     "slide_type": "slide"
    }
   },
   "source": [
    "## Use Case: What team did the person with the third-lowest salary play for?\n",
    "\n",
    "- We have the tools, but its a little tricky. Can you think of a strategy?"
   ]
  },
  {
   "cell_type": "markdown",
   "metadata": {
    "slideshow": {
     "slide_type": "slide"
    }
   },
   "source": [
    "## Strategy #1\n",
    "\n",
    "1. Sort the table in ascending order using `.sort_values(by='ADJUSTED_SALARY')`\n",
    "2. Get the name of the person using `.index[2]` (remember starts at 0)\n",
    "3. Use `.get('TEAM').loc[their_name]` to get their team name.\n",
    "\n"
   ]
  },
  {
   "cell_type": "code",
   "execution_count": 14,
   "metadata": {
    "slideshow": {
     "slide_type": "slide"
    }
   },
   "outputs": [
    {
     "data": {
      "text/html": [
       "<div>\n",
       "<style scoped>\n",
       "    .dataframe tbody tr th:only-of-type {\n",
       "        vertical-align: middle;\n",
       "    }\n",
       "\n",
       "    .dataframe tbody tr th {\n",
       "        vertical-align: top;\n",
       "    }\n",
       "\n",
       "    .dataframe thead th {\n",
       "        text-align: right;\n",
       "    }\n",
       "</style>\n",
       "<table border=\"1\" class=\"dataframe\">\n",
       "  <thead>\n",
       "    <tr style=\"text-align: right;\">\n",
       "      <th></th>\n",
       "      <th>POSITION</th>\n",
       "      <th>TEAM</th>\n",
       "      <th>2015_SALARY</th>\n",
       "    </tr>\n",
       "    <tr>\n",
       "      <th>PLAYER</th>\n",
       "      <th></th>\n",
       "      <th></th>\n",
       "      <th></th>\n",
       "    </tr>\n",
       "  </thead>\n",
       "  <tbody>\n",
       "    <tr>\n",
       "      <th>Thanasis Antetokounmpo</th>\n",
       "      <td>SF</td>\n",
       "      <td>New York Knicks</td>\n",
       "      <td>0.030888</td>\n",
       "    </tr>\n",
       "    <tr>\n",
       "      <th>Cory Jefferson</th>\n",
       "      <td>PF</td>\n",
       "      <td>Phoenix Suns</td>\n",
       "      <td>0.049709</td>\n",
       "    </tr>\n",
       "    <tr>\n",
       "      <th>Jordan McRae</th>\n",
       "      <td>SG</td>\n",
       "      <td>Phoenix Suns</td>\n",
       "      <td>0.049709</td>\n",
       "    </tr>\n",
       "    <tr>\n",
       "      <th>Orlando Johnson</th>\n",
       "      <td>SG</td>\n",
       "      <td>Phoenix Suns</td>\n",
       "      <td>0.055722</td>\n",
       "    </tr>\n",
       "    <tr>\n",
       "      <th>Phil Pressey</th>\n",
       "      <td>PG</td>\n",
       "      <td>Phoenix Suns</td>\n",
       "      <td>0.055722</td>\n",
       "    </tr>\n",
       "    <tr>\n",
       "      <th>...</th>\n",
       "      <td>...</td>\n",
       "      <td>...</td>\n",
       "      <td>...</td>\n",
       "    </tr>\n",
       "    <tr>\n",
       "      <th>Dwight Howard</th>\n",
       "      <td>C</td>\n",
       "      <td>Houston Rockets</td>\n",
       "      <td>22.359364</td>\n",
       "    </tr>\n",
       "    <tr>\n",
       "      <th>Carmelo Anthony</th>\n",
       "      <td>SF</td>\n",
       "      <td>New York Knicks</td>\n",
       "      <td>22.875000</td>\n",
       "    </tr>\n",
       "    <tr>\n",
       "      <th>LeBron James</th>\n",
       "      <td>SF</td>\n",
       "      <td>Cleveland Cavaliers</td>\n",
       "      <td>22.970500</td>\n",
       "    </tr>\n",
       "    <tr>\n",
       "      <th>Joe Johnson</th>\n",
       "      <td>SF</td>\n",
       "      <td>Brooklyn Nets</td>\n",
       "      <td>24.894863</td>\n",
       "    </tr>\n",
       "    <tr>\n",
       "      <th>Kobe Bryant</th>\n",
       "      <td>SF</td>\n",
       "      <td>Los Angeles Lakers</td>\n",
       "      <td>25.000000</td>\n",
       "    </tr>\n",
       "  </tbody>\n",
       "</table>\n",
       "<p>417 rows × 3 columns</p>\n",
       "</div>"
      ],
      "text/plain": [
       "                       POSITION                 TEAM  2015_SALARY\n",
       "PLAYER                                                           \n",
       "Thanasis Antetokounmpo       SF      New York Knicks     0.030888\n",
       "Cory Jefferson               PF         Phoenix Suns     0.049709\n",
       "Jordan McRae                 SG         Phoenix Suns     0.049709\n",
       "Orlando Johnson              SG         Phoenix Suns     0.055722\n",
       "Phil Pressey                 PG         Phoenix Suns     0.055722\n",
       "...                         ...                  ...          ...\n",
       "Dwight Howard                 C      Houston Rockets    22.359364\n",
       "Carmelo Anthony              SF      New York Knicks    22.875000\n",
       "LeBron James                 SF  Cleveland Cavaliers    22.970500\n",
       "Joe Johnson                  SF        Brooklyn Nets    24.894863\n",
       "Kobe Bryant                  SF   Los Angeles Lakers    25.000000\n",
       "\n",
       "[417 rows x 3 columns]"
      ]
     },
     "execution_count": 14,
     "metadata": {},
     "output_type": "execute_result"
    }
   ],
   "source": [
    "lowest_salaries = salaries.sort_values(by='2015_SALARY')\n",
    "lowest_salaries"
   ]
  },
  {
   "cell_type": "code",
   "execution_count": 15,
   "metadata": {},
   "outputs": [
    {
     "data": {
      "text/plain": [
       "'Jordan McRae'"
      ]
     },
     "execution_count": 15,
     "metadata": {},
     "output_type": "execute_result"
    }
   ],
   "source": [
    "name = lowest_salaries.index[2]\n",
    "name"
   ]
  },
  {
   "cell_type": "code",
   "execution_count": 16,
   "metadata": {},
   "outputs": [
    {
     "data": {
      "text/plain": [
       "'Phoenix Suns'"
      ]
     },
     "execution_count": 16,
     "metadata": {},
     "output_type": "execute_result"
    }
   ],
   "source": [
    "lowest_salaries.get('TEAM').loc[name]"
   ]
  },
  {
   "cell_type": "markdown",
   "metadata": {
    "slideshow": {
     "slide_type": "slide"
    }
   },
   "source": [
    "## Another Approach\n",
    "\n",
    "- Can we just get the 3rd element without knowing the label?\n",
    "- Yes, with `.iloc[]`.\n",
    "- `.iloc[]` takes integer position instead of row label."
   ]
  },
  {
   "cell_type": "code",
   "execution_count": 17,
   "metadata": {},
   "outputs": [
    {
     "data": {
      "text/plain": [
       "PLAYER\n",
       "Thanasis Antetokounmpo        New York Knicks\n",
       "Cory Jefferson                   Phoenix Suns\n",
       "Jordan McRae                     Phoenix Suns\n",
       "Orlando Johnson                  Phoenix Suns\n",
       "Phil Pressey                     Phoenix Suns\n",
       "                                 ...         \n",
       "Dwight Howard                 Houston Rockets\n",
       "Carmelo Anthony               New York Knicks\n",
       "LeBron James              Cleveland Cavaliers\n",
       "Joe Johnson                     Brooklyn Nets\n",
       "Kobe Bryant                Los Angeles Lakers\n",
       "Name: TEAM, Length: 417, dtype: object"
      ]
     },
     "execution_count": 17,
     "metadata": {},
     "output_type": "execute_result"
    }
   ],
   "source": [
    "lowest_salaries.get('TEAM')"
   ]
  },
  {
   "cell_type": "code",
   "execution_count": 18,
   "metadata": {},
   "outputs": [
    {
     "data": {
      "text/plain": [
       "'Phoenix Suns'"
      ]
     },
     "execution_count": 18,
     "metadata": {},
     "output_type": "execute_result"
    }
   ],
   "source": [
    "lowest_salaries.get('TEAM').iloc[2]"
   ]
  },
  {
   "cell_type": "markdown",
   "metadata": {
    "slideshow": {
     "slide_type": "slide"
    }
   },
   "source": [
    "## Strategy #2\n",
    "\n",
    "1. Sort the table in ascending order using `.sort_values(by='ADJUSTED_SALARY')`, as before.\n",
    "2. Use `.get('TEAM').iloc[2]` to get their team name."
   ]
  },
  {
   "cell_type": "code",
   "execution_count": 19,
   "metadata": {},
   "outputs": [
    {
     "data": {
      "text/plain": [
       "'Phoenix Suns'"
      ]
     },
     "execution_count": 19,
     "metadata": {},
     "output_type": "execute_result"
    }
   ],
   "source": [
    "salaries.sort_values(by='2015_SALARY').get('TEAM').iloc[2]"
   ]
  },
  {
   "cell_type": "markdown",
   "metadata": {
    "slideshow": {
     "slide_type": "slide"
    }
   },
   "source": [
    "## Summary of accessing a Series\n",
    "\n",
    "- There are two ways to get an element of a series:\n",
    "    - `.loc[]` uses the row label\n",
    "    - `.iloc[]` uses the integer position\n",
    "- Usually `.loc` is more convenient"
   ]
  },
  {
   "cell_type": "code",
   "execution_count": 20,
   "metadata": {},
   "outputs": [
    {
     "data": {
      "text/plain": [
       "PLAYER\n",
       "Thanasis Antetokounmpo        New York Knicks\n",
       "Cory Jefferson                   Phoenix Suns\n",
       "Jordan McRae                     Phoenix Suns\n",
       "Orlando Johnson                  Phoenix Suns\n",
       "Phil Pressey                     Phoenix Suns\n",
       "                                 ...         \n",
       "Dwight Howard                 Houston Rockets\n",
       "Carmelo Anthony               New York Knicks\n",
       "LeBron James              Cleveland Cavaliers\n",
       "Joe Johnson                     Brooklyn Nets\n",
       "Kobe Bryant                Los Angeles Lakers\n",
       "Name: TEAM, Length: 417, dtype: object"
      ]
     },
     "execution_count": 20,
     "metadata": {},
     "output_type": "execute_result"
    }
   ],
   "source": [
    "teams = lowest_salaries.get('TEAM')\n",
    "teams"
   ]
  },
  {
   "cell_type": "code",
   "execution_count": 21,
   "metadata": {},
   "outputs": [
    {
     "data": {
      "text/plain": [
       "'New York Knicks'"
      ]
     },
     "execution_count": 21,
     "metadata": {},
     "output_type": "execute_result"
    }
   ],
   "source": [
    "teams.loc['Thanasis Antetokounmpo']"
   ]
  },
  {
   "cell_type": "code",
   "execution_count": 22,
   "metadata": {},
   "outputs": [
    {
     "data": {
      "text/plain": [
       "'New York Knicks'"
      ]
     },
     "execution_count": 22,
     "metadata": {},
     "output_type": "execute_result"
    }
   ],
   "source": [
    "teams.iloc[0]"
   ]
  },
  {
   "cell_type": "markdown",
   "metadata": {
    "slideshow": {
     "slide_type": "slide"
    }
   },
   "source": [
    "## Note\n",
    "\n",
    "- Sometimes the integer position and row label are the same\n",
    "- This happens by default with `bpd.read_csv`:"
   ]
  },
  {
   "cell_type": "code",
   "execution_count": 23,
   "metadata": {},
   "outputs": [
    {
     "data": {
      "text/html": [
       "<div>\n",
       "<style scoped>\n",
       "    .dataframe tbody tr th:only-of-type {\n",
       "        vertical-align: middle;\n",
       "    }\n",
       "\n",
       "    .dataframe tbody tr th {\n",
       "        vertical-align: top;\n",
       "    }\n",
       "\n",
       "    .dataframe thead th {\n",
       "        text-align: right;\n",
       "    }\n",
       "</style>\n",
       "<table border=\"1\" class=\"dataframe\">\n",
       "  <thead>\n",
       "    <tr style=\"text-align: right;\">\n",
       "      <th></th>\n",
       "      <th>PLAYER</th>\n",
       "      <th>POSITION</th>\n",
       "      <th>TEAM</th>\n",
       "      <th>2015_SALARY</th>\n",
       "    </tr>\n",
       "  </thead>\n",
       "  <tbody>\n",
       "    <tr>\n",
       "      <th>0</th>\n",
       "      <td>Paul Millsap</td>\n",
       "      <td>PF</td>\n",
       "      <td>Atlanta Hawks</td>\n",
       "      <td>18.671659</td>\n",
       "    </tr>\n",
       "    <tr>\n",
       "      <th>1</th>\n",
       "      <td>Al Horford</td>\n",
       "      <td>C</td>\n",
       "      <td>Atlanta Hawks</td>\n",
       "      <td>12.000000</td>\n",
       "    </tr>\n",
       "    <tr>\n",
       "      <th>2</th>\n",
       "      <td>Tiago Splitter</td>\n",
       "      <td>C</td>\n",
       "      <td>Atlanta Hawks</td>\n",
       "      <td>9.756250</td>\n",
       "    </tr>\n",
       "    <tr>\n",
       "      <th>3</th>\n",
       "      <td>Jeff Teague</td>\n",
       "      <td>PG</td>\n",
       "      <td>Atlanta Hawks</td>\n",
       "      <td>8.000000</td>\n",
       "    </tr>\n",
       "    <tr>\n",
       "      <th>4</th>\n",
       "      <td>Kyle Korver</td>\n",
       "      <td>SG</td>\n",
       "      <td>Atlanta Hawks</td>\n",
       "      <td>5.746479</td>\n",
       "    </tr>\n",
       "    <tr>\n",
       "      <th>...</th>\n",
       "      <td>...</td>\n",
       "      <td>...</td>\n",
       "      <td>...</td>\n",
       "      <td>...</td>\n",
       "    </tr>\n",
       "    <tr>\n",
       "      <th>412</th>\n",
       "      <td>Gary Neal</td>\n",
       "      <td>PG</td>\n",
       "      <td>Washington Wizards</td>\n",
       "      <td>2.139000</td>\n",
       "    </tr>\n",
       "    <tr>\n",
       "      <th>413</th>\n",
       "      <td>DeJuan Blair</td>\n",
       "      <td>C</td>\n",
       "      <td>Washington Wizards</td>\n",
       "      <td>2.000000</td>\n",
       "    </tr>\n",
       "    <tr>\n",
       "      <th>414</th>\n",
       "      <td>Kelly Oubre Jr.</td>\n",
       "      <td>SF</td>\n",
       "      <td>Washington Wizards</td>\n",
       "      <td>1.920240</td>\n",
       "    </tr>\n",
       "    <tr>\n",
       "      <th>415</th>\n",
       "      <td>Garrett Temple</td>\n",
       "      <td>SG</td>\n",
       "      <td>Washington Wizards</td>\n",
       "      <td>1.100602</td>\n",
       "    </tr>\n",
       "    <tr>\n",
       "      <th>416</th>\n",
       "      <td>Jarell Eddie</td>\n",
       "      <td>SG</td>\n",
       "      <td>Washington Wizards</td>\n",
       "      <td>0.561716</td>\n",
       "    </tr>\n",
       "  </tbody>\n",
       "</table>\n",
       "<p>417 rows × 4 columns</p>\n",
       "</div>"
      ],
      "text/plain": [
       "              PLAYER POSITION                TEAM  2015_SALARY\n",
       "0       Paul Millsap       PF       Atlanta Hawks    18.671659\n",
       "1         Al Horford        C       Atlanta Hawks    12.000000\n",
       "2     Tiago Splitter        C       Atlanta Hawks     9.756250\n",
       "3        Jeff Teague       PG       Atlanta Hawks     8.000000\n",
       "4        Kyle Korver       SG       Atlanta Hawks     5.746479\n",
       "..               ...      ...                 ...          ...\n",
       "412        Gary Neal       PG  Washington Wizards     2.139000\n",
       "413     DeJuan Blair        C  Washington Wizards     2.000000\n",
       "414  Kelly Oubre Jr.       SF  Washington Wizards     1.920240\n",
       "415   Garrett Temple       SG  Washington Wizards     1.100602\n",
       "416     Jarell Eddie       SG  Washington Wizards     0.561716\n",
       "\n",
       "[417 rows x 4 columns]"
      ]
     },
     "execution_count": 23,
     "metadata": {},
     "output_type": "execute_result"
    }
   ],
   "source": [
    "bpd.read_csv('nba_salaries.csv')"
   ]
  },
  {
   "cell_type": "code",
   "execution_count": 24,
   "metadata": {},
   "outputs": [
    {
     "data": {
      "text/plain": [
       "'Jeff Teague'"
      ]
     },
     "execution_count": 24,
     "metadata": {},
     "output_type": "execute_result"
    }
   ],
   "source": [
    "bpd.read_csv('nba_salaries.csv').get('PLAYER').loc[3]"
   ]
  },
  {
   "cell_type": "code",
   "execution_count": 25,
   "metadata": {},
   "outputs": [
    {
     "data": {
      "text/plain": [
       "'Jeff Teague'"
      ]
     },
     "execution_count": 25,
     "metadata": {},
     "output_type": "execute_result"
    }
   ],
   "source": [
    "bpd.read_csv('nba_salaries.csv').get('PLAYER').iloc[3]"
   ]
  },
  {
   "cell_type": "markdown",
   "metadata": {
    "slideshow": {
     "slide_type": "slide"
    }
   },
   "source": [
    "# Selecting Rows"
   ]
  },
  {
   "cell_type": "markdown",
   "metadata": {
    "slideshow": {
     "slide_type": "slide"
    }
   },
   "source": [
    "## Use Case: Who was the highest paid center (C)?"
   ]
  },
  {
   "cell_type": "code",
   "execution_count": 26,
   "metadata": {},
   "outputs": [
    {
     "data": {
      "text/html": [
       "<div>\n",
       "<style scoped>\n",
       "    .dataframe tbody tr th:only-of-type {\n",
       "        vertical-align: middle;\n",
       "    }\n",
       "\n",
       "    .dataframe tbody tr th {\n",
       "        vertical-align: top;\n",
       "    }\n",
       "\n",
       "    .dataframe thead th {\n",
       "        text-align: right;\n",
       "    }\n",
       "</style>\n",
       "<table border=\"1\" class=\"dataframe\">\n",
       "  <thead>\n",
       "    <tr style=\"text-align: right;\">\n",
       "      <th></th>\n",
       "      <th>POSITION</th>\n",
       "      <th>TEAM</th>\n",
       "      <th>2015_SALARY</th>\n",
       "    </tr>\n",
       "    <tr>\n",
       "      <th>PLAYER</th>\n",
       "      <th></th>\n",
       "      <th></th>\n",
       "      <th></th>\n",
       "    </tr>\n",
       "  </thead>\n",
       "  <tbody>\n",
       "    <tr>\n",
       "      <th>Paul Millsap</th>\n",
       "      <td>PF</td>\n",
       "      <td>Atlanta Hawks</td>\n",
       "      <td>18.671659</td>\n",
       "    </tr>\n",
       "    <tr>\n",
       "      <th>Al Horford</th>\n",
       "      <td>C</td>\n",
       "      <td>Atlanta Hawks</td>\n",
       "      <td>12.000000</td>\n",
       "    </tr>\n",
       "    <tr>\n",
       "      <th>Tiago Splitter</th>\n",
       "      <td>C</td>\n",
       "      <td>Atlanta Hawks</td>\n",
       "      <td>9.756250</td>\n",
       "    </tr>\n",
       "    <tr>\n",
       "      <th>Jeff Teague</th>\n",
       "      <td>PG</td>\n",
       "      <td>Atlanta Hawks</td>\n",
       "      <td>8.000000</td>\n",
       "    </tr>\n",
       "    <tr>\n",
       "      <th>Kyle Korver</th>\n",
       "      <td>SG</td>\n",
       "      <td>Atlanta Hawks</td>\n",
       "      <td>5.746479</td>\n",
       "    </tr>\n",
       "    <tr>\n",
       "      <th>...</th>\n",
       "      <td>...</td>\n",
       "      <td>...</td>\n",
       "      <td>...</td>\n",
       "    </tr>\n",
       "    <tr>\n",
       "      <th>Gary Neal</th>\n",
       "      <td>PG</td>\n",
       "      <td>Washington Wizards</td>\n",
       "      <td>2.139000</td>\n",
       "    </tr>\n",
       "    <tr>\n",
       "      <th>DeJuan Blair</th>\n",
       "      <td>C</td>\n",
       "      <td>Washington Wizards</td>\n",
       "      <td>2.000000</td>\n",
       "    </tr>\n",
       "    <tr>\n",
       "      <th>Kelly Oubre Jr.</th>\n",
       "      <td>SF</td>\n",
       "      <td>Washington Wizards</td>\n",
       "      <td>1.920240</td>\n",
       "    </tr>\n",
       "    <tr>\n",
       "      <th>Garrett Temple</th>\n",
       "      <td>SG</td>\n",
       "      <td>Washington Wizards</td>\n",
       "      <td>1.100602</td>\n",
       "    </tr>\n",
       "    <tr>\n",
       "      <th>Jarell Eddie</th>\n",
       "      <td>SG</td>\n",
       "      <td>Washington Wizards</td>\n",
       "      <td>0.561716</td>\n",
       "    </tr>\n",
       "  </tbody>\n",
       "</table>\n",
       "<p>417 rows × 3 columns</p>\n",
       "</div>"
      ],
      "text/plain": [
       "                POSITION                TEAM  2015_SALARY\n",
       "PLAYER                                                   \n",
       "Paul Millsap          PF       Atlanta Hawks    18.671659\n",
       "Al Horford             C       Atlanta Hawks    12.000000\n",
       "Tiago Splitter         C       Atlanta Hawks     9.756250\n",
       "Jeff Teague           PG       Atlanta Hawks     8.000000\n",
       "Kyle Korver           SG       Atlanta Hawks     5.746479\n",
       "...                  ...                 ...          ...\n",
       "Gary Neal             PG  Washington Wizards     2.139000\n",
       "DeJuan Blair           C  Washington Wizards     2.000000\n",
       "Kelly Oubre Jr.       SF  Washington Wizards     1.920240\n",
       "Garrett Temple        SG  Washington Wizards     1.100602\n",
       "Jarell Eddie          SG  Washington Wizards     0.561716\n",
       "\n",
       "[417 rows x 3 columns]"
      ]
     },
     "execution_count": 26,
     "metadata": {},
     "output_type": "execute_result"
    }
   ],
   "source": [
    "salaries"
   ]
  },
  {
   "cell_type": "markdown",
   "metadata": {
    "slideshow": {
     "slide_type": "slide"
    }
   },
   "source": [
    "## Selecting Rows\n",
    "\n",
    "- We could do it if we had a table consisting only of centers.\n",
    "- But how do we get that table?"
   ]
  },
  {
   "cell_type": "markdown",
   "metadata": {
    "slideshow": {
     "slide_type": "slide"
    }
   },
   "source": [
    "## The Solution"
   ]
  },
  {
   "cell_type": "code",
   "execution_count": 27,
   "metadata": {},
   "outputs": [
    {
     "data": {
      "text/html": [
       "<div>\n",
       "<style scoped>\n",
       "    .dataframe tbody tr th:only-of-type {\n",
       "        vertical-align: middle;\n",
       "    }\n",
       "\n",
       "    .dataframe tbody tr th {\n",
       "        vertical-align: top;\n",
       "    }\n",
       "\n",
       "    .dataframe thead th {\n",
       "        text-align: right;\n",
       "    }\n",
       "</style>\n",
       "<table border=\"1\" class=\"dataframe\">\n",
       "  <thead>\n",
       "    <tr style=\"text-align: right;\">\n",
       "      <th></th>\n",
       "      <th>POSITION</th>\n",
       "      <th>TEAM</th>\n",
       "      <th>2015_SALARY</th>\n",
       "    </tr>\n",
       "    <tr>\n",
       "      <th>PLAYER</th>\n",
       "      <th></th>\n",
       "      <th></th>\n",
       "      <th></th>\n",
       "    </tr>\n",
       "  </thead>\n",
       "  <tbody>\n",
       "    <tr>\n",
       "      <th>Al Horford</th>\n",
       "      <td>C</td>\n",
       "      <td>Atlanta Hawks</td>\n",
       "      <td>12.000000</td>\n",
       "    </tr>\n",
       "    <tr>\n",
       "      <th>Tiago Splitter</th>\n",
       "      <td>C</td>\n",
       "      <td>Atlanta Hawks</td>\n",
       "      <td>9.756250</td>\n",
       "    </tr>\n",
       "    <tr>\n",
       "      <th>Walter Tavares</th>\n",
       "      <td>C</td>\n",
       "      <td>Atlanta Hawks</td>\n",
       "      <td>1.000000</td>\n",
       "    </tr>\n",
       "    <tr>\n",
       "      <th>Tyler Zeller</th>\n",
       "      <td>C</td>\n",
       "      <td>Boston Celtics</td>\n",
       "      <td>2.616975</td>\n",
       "    </tr>\n",
       "    <tr>\n",
       "      <th>Jared Sullinger</th>\n",
       "      <td>C</td>\n",
       "      <td>Boston Celtics</td>\n",
       "      <td>2.569260</td>\n",
       "    </tr>\n",
       "    <tr>\n",
       "      <th>...</th>\n",
       "      <td>...</td>\n",
       "      <td>...</td>\n",
       "      <td>...</td>\n",
       "    </tr>\n",
       "    <tr>\n",
       "      <th>Rudy Gobert</th>\n",
       "      <td>C</td>\n",
       "      <td>Utah Jazz</td>\n",
       "      <td>1.175880</td>\n",
       "    </tr>\n",
       "    <tr>\n",
       "      <th>Jeff Withey</th>\n",
       "      <td>C</td>\n",
       "      <td>Utah Jazz</td>\n",
       "      <td>0.947276</td>\n",
       "    </tr>\n",
       "    <tr>\n",
       "      <th>Nene Hilario</th>\n",
       "      <td>C</td>\n",
       "      <td>Washington Wizards</td>\n",
       "      <td>13.000000</td>\n",
       "    </tr>\n",
       "    <tr>\n",
       "      <th>Marcin Gortat</th>\n",
       "      <td>C</td>\n",
       "      <td>Washington Wizards</td>\n",
       "      <td>11.217391</td>\n",
       "    </tr>\n",
       "    <tr>\n",
       "      <th>DeJuan Blair</th>\n",
       "      <td>C</td>\n",
       "      <td>Washington Wizards</td>\n",
       "      <td>2.000000</td>\n",
       "    </tr>\n",
       "  </tbody>\n",
       "</table>\n",
       "<p>69 rows × 3 columns</p>\n",
       "</div>"
      ],
      "text/plain": [
       "                POSITION                TEAM  2015_SALARY\n",
       "PLAYER                                                   \n",
       "Al Horford             C       Atlanta Hawks    12.000000\n",
       "Tiago Splitter         C       Atlanta Hawks     9.756250\n",
       "Walter Tavares         C       Atlanta Hawks     1.000000\n",
       "Tyler Zeller           C      Boston Celtics     2.616975\n",
       "Jared Sullinger        C      Boston Celtics     2.569260\n",
       "...                  ...                 ...          ...\n",
       "Rudy Gobert            C           Utah Jazz     1.175880\n",
       "Jeff Withey            C           Utah Jazz     0.947276\n",
       "Nene Hilario           C  Washington Wizards    13.000000\n",
       "Marcin Gortat          C  Washington Wizards    11.217391\n",
       "DeJuan Blair           C  Washington Wizards     2.000000\n",
       "\n",
       "[69 rows x 3 columns]"
      ]
     },
     "execution_count": 27,
     "metadata": {},
     "output_type": "execute_result"
    }
   ],
   "source": [
    "salaries[salaries.get('POSITION') == 'C']"
   ]
  },
  {
   "cell_type": "code",
   "execution_count": 28,
   "metadata": {
    "slideshow": {
     "slide_type": "slide"
    }
   },
   "outputs": [
    {
     "data": {
      "text/plain": [
       "False"
      ]
     },
     "execution_count": 28,
     "metadata": {},
     "output_type": "execute_result"
    }
   ],
   "source": [
    "'PG' == 'C'"
   ]
  },
  {
   "cell_type": "code",
   "execution_count": 29,
   "metadata": {},
   "outputs": [
    {
     "data": {
      "text/plain": [
       "True"
      ]
     },
     "execution_count": 29,
     "metadata": {},
     "output_type": "execute_result"
    }
   ],
   "source": [
    "'C' == 'C'"
   ]
  },
  {
   "cell_type": "code",
   "execution_count": 30,
   "metadata": {
    "slideshow": {
     "slide_type": "-"
    }
   },
   "outputs": [
    {
     "data": {
      "text/plain": [
       "PLAYER\n",
       "Paul Millsap       False\n",
       "Al Horford          True\n",
       "Tiago Splitter      True\n",
       "Jeff Teague        False\n",
       "Kyle Korver        False\n",
       "                   ...  \n",
       "Gary Neal          False\n",
       "DeJuan Blair        True\n",
       "Kelly Oubre Jr.    False\n",
       "Garrett Temple     False\n",
       "Jarell Eddie       False\n",
       "Name: POSITION, Length: 417, dtype: bool"
      ]
     },
     "execution_count": 30,
     "metadata": {},
     "output_type": "execute_result"
    }
   ],
   "source": [
    "salaries.get('POSITION') == 'C'"
   ]
  },
  {
   "cell_type": "markdown",
   "metadata": {
    "slideshow": {
     "slide_type": "slide"
    }
   },
   "source": [
    "## Boolean Indexing\n",
    "\n",
    "To select only some rows of `salaries`:\n",
    "\n",
    "1. Make a list/array/Series of `True`s (keep) and `Falses` (toss)\n",
    "2. Then pass it into `salaries[]`.\n",
    "\n",
    "Rather than making the list by hand, we usually make comparisons."
   ]
  },
  {
   "cell_type": "markdown",
   "metadata": {
    "slideshow": {
     "slide_type": "slide"
    }
   },
   "source": [
    "## Elementwise comparisons work as expected"
   ]
  },
  {
   "cell_type": "code",
   "execution_count": 31,
   "metadata": {},
   "outputs": [
    {
     "data": {
      "text/plain": [
       "PLAYER\n",
       "Paul Millsap        True\n",
       "Al Horford          True\n",
       "Tiago Splitter      True\n",
       "Jeff Teague         True\n",
       "Kyle Korver         True\n",
       "                   ...  \n",
       "Gary Neal          False\n",
       "DeJuan Blair       False\n",
       "Kelly Oubre Jr.    False\n",
       "Garrett Temple     False\n",
       "Jarell Eddie       False\n",
       "Name: 2015_SALARY, Length: 417, dtype: bool"
      ]
     },
     "execution_count": 31,
     "metadata": {},
     "output_type": "execute_result"
    }
   ],
   "source": [
    "salaries.get('2015_SALARY') > 5"
   ]
  },
  {
   "cell_type": "code",
   "execution_count": 32,
   "metadata": {},
   "outputs": [
    {
     "data": {
      "text/html": [
       "<div>\n",
       "<style scoped>\n",
       "    .dataframe tbody tr th:only-of-type {\n",
       "        vertical-align: middle;\n",
       "    }\n",
       "\n",
       "    .dataframe tbody tr th {\n",
       "        vertical-align: top;\n",
       "    }\n",
       "\n",
       "    .dataframe thead th {\n",
       "        text-align: right;\n",
       "    }\n",
       "</style>\n",
       "<table border=\"1\" class=\"dataframe\">\n",
       "  <thead>\n",
       "    <tr style=\"text-align: right;\">\n",
       "      <th></th>\n",
       "      <th>POSITION</th>\n",
       "      <th>TEAM</th>\n",
       "      <th>2015_SALARY</th>\n",
       "    </tr>\n",
       "    <tr>\n",
       "      <th>PLAYER</th>\n",
       "      <th></th>\n",
       "      <th></th>\n",
       "      <th></th>\n",
       "    </tr>\n",
       "  </thead>\n",
       "  <tbody>\n",
       "    <tr>\n",
       "      <th>Paul Millsap</th>\n",
       "      <td>PF</td>\n",
       "      <td>Atlanta Hawks</td>\n",
       "      <td>18.671659</td>\n",
       "    </tr>\n",
       "    <tr>\n",
       "      <th>Al Horford</th>\n",
       "      <td>C</td>\n",
       "      <td>Atlanta Hawks</td>\n",
       "      <td>12.000000</td>\n",
       "    </tr>\n",
       "    <tr>\n",
       "      <th>Tiago Splitter</th>\n",
       "      <td>C</td>\n",
       "      <td>Atlanta Hawks</td>\n",
       "      <td>9.756250</td>\n",
       "    </tr>\n",
       "    <tr>\n",
       "      <th>Jeff Teague</th>\n",
       "      <td>PG</td>\n",
       "      <td>Atlanta Hawks</td>\n",
       "      <td>8.000000</td>\n",
       "    </tr>\n",
       "    <tr>\n",
       "      <th>Kyle Korver</th>\n",
       "      <td>SG</td>\n",
       "      <td>Atlanta Hawks</td>\n",
       "      <td>5.746479</td>\n",
       "    </tr>\n",
       "    <tr>\n",
       "      <th>...</th>\n",
       "      <td>...</td>\n",
       "      <td>...</td>\n",
       "      <td>...</td>\n",
       "    </tr>\n",
       "    <tr>\n",
       "      <th>Nene Hilario</th>\n",
       "      <td>C</td>\n",
       "      <td>Washington Wizards</td>\n",
       "      <td>13.000000</td>\n",
       "    </tr>\n",
       "    <tr>\n",
       "      <th>Marcin Gortat</th>\n",
       "      <td>C</td>\n",
       "      <td>Washington Wizards</td>\n",
       "      <td>11.217391</td>\n",
       "    </tr>\n",
       "    <tr>\n",
       "      <th>Markieff Morris</th>\n",
       "      <td>PF</td>\n",
       "      <td>Washington Wizards</td>\n",
       "      <td>8.000000</td>\n",
       "    </tr>\n",
       "    <tr>\n",
       "      <th>Bradley Beal</th>\n",
       "      <td>SG</td>\n",
       "      <td>Washington Wizards</td>\n",
       "      <td>5.694674</td>\n",
       "    </tr>\n",
       "    <tr>\n",
       "      <th>Martell Webster</th>\n",
       "      <td>SF</td>\n",
       "      <td>Washington Wizards</td>\n",
       "      <td>5.613500</td>\n",
       "    </tr>\n",
       "  </tbody>\n",
       "</table>\n",
       "<p>144 rows × 3 columns</p>\n",
       "</div>"
      ],
      "text/plain": [
       "                POSITION                TEAM  2015_SALARY\n",
       "PLAYER                                                   \n",
       "Paul Millsap          PF       Atlanta Hawks    18.671659\n",
       "Al Horford             C       Atlanta Hawks    12.000000\n",
       "Tiago Splitter         C       Atlanta Hawks     9.756250\n",
       "Jeff Teague           PG       Atlanta Hawks     8.000000\n",
       "Kyle Korver           SG       Atlanta Hawks     5.746479\n",
       "...                  ...                 ...          ...\n",
       "Nene Hilario           C  Washington Wizards    13.000000\n",
       "Marcin Gortat          C  Washington Wizards    11.217391\n",
       "Markieff Morris       PF  Washington Wizards     8.000000\n",
       "Bradley Beal          SG  Washington Wizards     5.694674\n",
       "Martell Webster       SF  Washington Wizards     5.613500\n",
       "\n",
       "[144 rows x 3 columns]"
      ]
     },
     "execution_count": 32,
     "metadata": {},
     "output_type": "execute_result"
    }
   ],
   "source": [
    "#- make a table with only players who made more than 5 million\n",
    "salaries[salaries.get('2015_SALARY') > 5]"
   ]
  },
  {
   "cell_type": "markdown",
   "metadata": {
    "slideshow": {
     "slide_type": "slide"
    }
   },
   "source": [
    "## Another example"
   ]
  },
  {
   "cell_type": "code",
   "execution_count": 33,
   "metadata": {},
   "outputs": [
    {
     "data": {
      "text/html": [
       "<div>\n",
       "<style scoped>\n",
       "    .dataframe tbody tr th:only-of-type {\n",
       "        vertical-align: middle;\n",
       "    }\n",
       "\n",
       "    .dataframe tbody tr th {\n",
       "        vertical-align: top;\n",
       "    }\n",
       "\n",
       "    .dataframe thead th {\n",
       "        text-align: right;\n",
       "    }\n",
       "</style>\n",
       "<table border=\"1\" class=\"dataframe\">\n",
       "  <thead>\n",
       "    <tr style=\"text-align: right;\">\n",
       "      <th></th>\n",
       "      <th>POSITION</th>\n",
       "      <th>TEAM</th>\n",
       "      <th>2015_SALARY</th>\n",
       "    </tr>\n",
       "    <tr>\n",
       "      <th>PLAYER</th>\n",
       "      <th></th>\n",
       "      <th></th>\n",
       "      <th></th>\n",
       "    </tr>\n",
       "  </thead>\n",
       "  <tbody>\n",
       "    <tr>\n",
       "      <th>LeBron James</th>\n",
       "      <td>SF</td>\n",
       "      <td>Cleveland Cavaliers</td>\n",
       "      <td>22.970500</td>\n",
       "    </tr>\n",
       "    <tr>\n",
       "      <th>Kevin Love</th>\n",
       "      <td>PF</td>\n",
       "      <td>Cleveland Cavaliers</td>\n",
       "      <td>19.689000</td>\n",
       "    </tr>\n",
       "    <tr>\n",
       "      <th>Kyrie Irving</th>\n",
       "      <td>PG</td>\n",
       "      <td>Cleveland Cavaliers</td>\n",
       "      <td>16.407501</td>\n",
       "    </tr>\n",
       "    <tr>\n",
       "      <th>Tristan Thompson</th>\n",
       "      <td>C</td>\n",
       "      <td>Cleveland Cavaliers</td>\n",
       "      <td>14.260870</td>\n",
       "    </tr>\n",
       "    <tr>\n",
       "      <th>Brendan Haywood</th>\n",
       "      <td>C</td>\n",
       "      <td>Cleveland Cavaliers</td>\n",
       "      <td>10.522500</td>\n",
       "    </tr>\n",
       "    <tr>\n",
       "      <th>Iman Shumpert</th>\n",
       "      <td>SG</td>\n",
       "      <td>Cleveland Cavaliers</td>\n",
       "      <td>8.988765</td>\n",
       "    </tr>\n",
       "    <tr>\n",
       "      <th>Timofey Mozgov</th>\n",
       "      <td>C</td>\n",
       "      <td>Cleveland Cavaliers</td>\n",
       "      <td>4.950000</td>\n",
       "    </tr>\n",
       "    <tr>\n",
       "      <th>Mo Williams</th>\n",
       "      <td>PG</td>\n",
       "      <td>Cleveland Cavaliers</td>\n",
       "      <td>2.100000</td>\n",
       "    </tr>\n",
       "    <tr>\n",
       "      <th>Sasha Kaun</th>\n",
       "      <td>C</td>\n",
       "      <td>Cleveland Cavaliers</td>\n",
       "      <td>1.276000</td>\n",
       "    </tr>\n",
       "    <tr>\n",
       "      <th>Matthew Dellavedova</th>\n",
       "      <td>PG</td>\n",
       "      <td>Cleveland Cavaliers</td>\n",
       "      <td>1.147276</td>\n",
       "    </tr>\n",
       "  </tbody>\n",
       "</table>\n",
       "</div>"
      ],
      "text/plain": [
       "                    POSITION                 TEAM  2015_SALARY\n",
       "PLAYER                                                        \n",
       "LeBron James              SF  Cleveland Cavaliers    22.970500\n",
       "Kevin Love                PF  Cleveland Cavaliers    19.689000\n",
       "Kyrie Irving              PG  Cleveland Cavaliers    16.407501\n",
       "Tristan Thompson           C  Cleveland Cavaliers    14.260870\n",
       "Brendan Haywood            C  Cleveland Cavaliers    10.522500\n",
       "Iman Shumpert             SG  Cleveland Cavaliers     8.988765\n",
       "Timofey Mozgov             C  Cleveland Cavaliers     4.950000\n",
       "Mo Williams               PG  Cleveland Cavaliers     2.100000\n",
       "Sasha Kaun                 C  Cleveland Cavaliers     1.276000\n",
       "Matthew Dellavedova       PG  Cleveland Cavaliers     1.147276"
      ]
     },
     "execution_count": 33,
     "metadata": {},
     "output_type": "execute_result"
    }
   ],
   "source": [
    "#- get only the Cleveland Cavaliers\n",
    "salaries[salaries.get('TEAM') == 'Cleveland Cavaliers']"
   ]
  },
  {
   "cell_type": "markdown",
   "metadata": {
    "slideshow": {
     "slide_type": "slide"
    }
   },
   "source": [
    "## When the conditions are not satisfied"
   ]
  },
  {
   "cell_type": "code",
   "execution_count": 34,
   "metadata": {},
   "outputs": [
    {
     "data": {
      "text/html": [
       "<div>\n",
       "<style scoped>\n",
       "    .dataframe tbody tr th:only-of-type {\n",
       "        vertical-align: middle;\n",
       "    }\n",
       "\n",
       "    .dataframe tbody tr th {\n",
       "        vertical-align: top;\n",
       "    }\n",
       "\n",
       "    .dataframe thead th {\n",
       "        text-align: right;\n",
       "    }\n",
       "</style>\n",
       "<table border=\"1\" class=\"dataframe\">\n",
       "  <thead>\n",
       "    <tr style=\"text-align: right;\">\n",
       "      <th></th>\n",
       "      <th>POSITION</th>\n",
       "      <th>TEAM</th>\n",
       "      <th>2015_SALARY</th>\n",
       "    </tr>\n",
       "    <tr>\n",
       "      <th>PLAYER</th>\n",
       "      <th></th>\n",
       "      <th></th>\n",
       "      <th></th>\n",
       "    </tr>\n",
       "  </thead>\n",
       "  <tbody>\n",
       "  </tbody>\n",
       "</table>\n",
       "</div>"
      ],
      "text/plain": [
       "Empty DataFrame\n",
       "Columns: [POSITION, TEAM, 2015_SALARY]\n",
       "Index: []"
      ]
     },
     "execution_count": 34,
     "metadata": {},
     "output_type": "execute_result"
    }
   ],
   "source": [
    "salaries[salaries.get('TEAM') == 'San Diego Surfers']"
   ]
  },
  {
   "cell_type": "markdown",
   "metadata": {
    "slideshow": {
     "slide_type": "slide"
    }
   },
   "source": [
    "## Use Case: Who was the highest paid center?\n",
    "\n",
    "1. Extract a table of centers\n",
    "2. Sort by salary\n",
    "3. Return first thing in index"
   ]
  },
  {
   "cell_type": "code",
   "execution_count": 35,
   "metadata": {},
   "outputs": [
    {
     "data": {
      "text/html": [
       "<div>\n",
       "<style scoped>\n",
       "    .dataframe tbody tr th:only-of-type {\n",
       "        vertical-align: middle;\n",
       "    }\n",
       "\n",
       "    .dataframe tbody tr th {\n",
       "        vertical-align: top;\n",
       "    }\n",
       "\n",
       "    .dataframe thead th {\n",
       "        text-align: right;\n",
       "    }\n",
       "</style>\n",
       "<table border=\"1\" class=\"dataframe\">\n",
       "  <thead>\n",
       "    <tr style=\"text-align: right;\">\n",
       "      <th></th>\n",
       "      <th>POSITION</th>\n",
       "      <th>TEAM</th>\n",
       "      <th>2015_SALARY</th>\n",
       "    </tr>\n",
       "    <tr>\n",
       "      <th>PLAYER</th>\n",
       "      <th></th>\n",
       "      <th></th>\n",
       "      <th></th>\n",
       "    </tr>\n",
       "  </thead>\n",
       "  <tbody>\n",
       "    <tr>\n",
       "      <th>Al Horford</th>\n",
       "      <td>C</td>\n",
       "      <td>Atlanta Hawks</td>\n",
       "      <td>12.000000</td>\n",
       "    </tr>\n",
       "    <tr>\n",
       "      <th>Tiago Splitter</th>\n",
       "      <td>C</td>\n",
       "      <td>Atlanta Hawks</td>\n",
       "      <td>9.756250</td>\n",
       "    </tr>\n",
       "    <tr>\n",
       "      <th>Walter Tavares</th>\n",
       "      <td>C</td>\n",
       "      <td>Atlanta Hawks</td>\n",
       "      <td>1.000000</td>\n",
       "    </tr>\n",
       "    <tr>\n",
       "      <th>Tyler Zeller</th>\n",
       "      <td>C</td>\n",
       "      <td>Boston Celtics</td>\n",
       "      <td>2.616975</td>\n",
       "    </tr>\n",
       "    <tr>\n",
       "      <th>Jared Sullinger</th>\n",
       "      <td>C</td>\n",
       "      <td>Boston Celtics</td>\n",
       "      <td>2.569260</td>\n",
       "    </tr>\n",
       "    <tr>\n",
       "      <th>...</th>\n",
       "      <td>...</td>\n",
       "      <td>...</td>\n",
       "      <td>...</td>\n",
       "    </tr>\n",
       "    <tr>\n",
       "      <th>Rudy Gobert</th>\n",
       "      <td>C</td>\n",
       "      <td>Utah Jazz</td>\n",
       "      <td>1.175880</td>\n",
       "    </tr>\n",
       "    <tr>\n",
       "      <th>Jeff Withey</th>\n",
       "      <td>C</td>\n",
       "      <td>Utah Jazz</td>\n",
       "      <td>0.947276</td>\n",
       "    </tr>\n",
       "    <tr>\n",
       "      <th>Nene Hilario</th>\n",
       "      <td>C</td>\n",
       "      <td>Washington Wizards</td>\n",
       "      <td>13.000000</td>\n",
       "    </tr>\n",
       "    <tr>\n",
       "      <th>Marcin Gortat</th>\n",
       "      <td>C</td>\n",
       "      <td>Washington Wizards</td>\n",
       "      <td>11.217391</td>\n",
       "    </tr>\n",
       "    <tr>\n",
       "      <th>DeJuan Blair</th>\n",
       "      <td>C</td>\n",
       "      <td>Washington Wizards</td>\n",
       "      <td>2.000000</td>\n",
       "    </tr>\n",
       "  </tbody>\n",
       "</table>\n",
       "<p>69 rows × 3 columns</p>\n",
       "</div>"
      ],
      "text/plain": [
       "                POSITION                TEAM  2015_SALARY\n",
       "PLAYER                                                   \n",
       "Al Horford             C       Atlanta Hawks    12.000000\n",
       "Tiago Splitter         C       Atlanta Hawks     9.756250\n",
       "Walter Tavares         C       Atlanta Hawks     1.000000\n",
       "Tyler Zeller           C      Boston Celtics     2.616975\n",
       "Jared Sullinger        C      Boston Celtics     2.569260\n",
       "...                  ...                 ...          ...\n",
       "Rudy Gobert            C           Utah Jazz     1.175880\n",
       "Jeff Withey            C           Utah Jazz     0.947276\n",
       "Nene Hilario           C  Washington Wizards    13.000000\n",
       "Marcin Gortat          C  Washington Wizards    11.217391\n",
       "DeJuan Blair           C  Washington Wizards     2.000000\n",
       "\n",
       "[69 rows x 3 columns]"
      ]
     },
     "execution_count": 35,
     "metadata": {},
     "output_type": "execute_result"
    }
   ],
   "source": [
    "#- extract a table of centers\n",
    "centers = salaries[salaries.get('POSITION') == 'C']\n",
    "centers"
   ]
  },
  {
   "cell_type": "code",
   "execution_count": 36,
   "metadata": {},
   "outputs": [
    {
     "data": {
      "text/plain": [
       "'Dwight Howard'"
      ]
     },
     "execution_count": 36,
     "metadata": {},
     "output_type": "execute_result"
    }
   ],
   "source": [
    "#- sort and return first thing in index\n",
    "centers.sort_values(by='2015_SALARY', ascending=False).index[0]"
   ]
  },
  {
   "cell_type": "markdown",
   "metadata": {
    "slideshow": {
     "slide_type": "slide"
    }
   },
   "source": [
    "## Discussion Question\n",
    "\n",
    "What was the total payroll of the Cleveland Cavaliers?\n",
    "\n",
    "- a) `salaries[salaries.get('TEAM') == 'Cleveland Cavaliers'].get('2015_SALARY').sum()`\n",
    "- b) `salaries.get('2015_SALARY').sum()[salaries.get('TEAM') == 'Cleveland Cavaliers']`\n",
    "- c) `salaries['Cleveland Cavaliers'].get('2015_SALARY').sum()`"
   ]
  },
  {
   "cell_type": "markdown",
   "metadata": {
    "slideshow": {
     "slide_type": "slide"
    }
   },
   "source": [
    "## Answer: a)"
   ]
  },
  {
   "cell_type": "code",
   "execution_count": 37,
   "metadata": {},
   "outputs": [
    {
     "data": {
      "text/html": [
       "<div>\n",
       "<style scoped>\n",
       "    .dataframe tbody tr th:only-of-type {\n",
       "        vertical-align: middle;\n",
       "    }\n",
       "\n",
       "    .dataframe tbody tr th {\n",
       "        vertical-align: top;\n",
       "    }\n",
       "\n",
       "    .dataframe thead th {\n",
       "        text-align: right;\n",
       "    }\n",
       "</style>\n",
       "<table border=\"1\" class=\"dataframe\">\n",
       "  <thead>\n",
       "    <tr style=\"text-align: right;\">\n",
       "      <th></th>\n",
       "      <th>POSITION</th>\n",
       "      <th>TEAM</th>\n",
       "      <th>2015_SALARY</th>\n",
       "    </tr>\n",
       "    <tr>\n",
       "      <th>PLAYER</th>\n",
       "      <th></th>\n",
       "      <th></th>\n",
       "      <th></th>\n",
       "    </tr>\n",
       "  </thead>\n",
       "  <tbody>\n",
       "    <tr>\n",
       "      <th>LeBron James</th>\n",
       "      <td>SF</td>\n",
       "      <td>Cleveland Cavaliers</td>\n",
       "      <td>22.970500</td>\n",
       "    </tr>\n",
       "    <tr>\n",
       "      <th>Kevin Love</th>\n",
       "      <td>PF</td>\n",
       "      <td>Cleveland Cavaliers</td>\n",
       "      <td>19.689000</td>\n",
       "    </tr>\n",
       "    <tr>\n",
       "      <th>Kyrie Irving</th>\n",
       "      <td>PG</td>\n",
       "      <td>Cleveland Cavaliers</td>\n",
       "      <td>16.407501</td>\n",
       "    </tr>\n",
       "    <tr>\n",
       "      <th>Tristan Thompson</th>\n",
       "      <td>C</td>\n",
       "      <td>Cleveland Cavaliers</td>\n",
       "      <td>14.260870</td>\n",
       "    </tr>\n",
       "    <tr>\n",
       "      <th>Brendan Haywood</th>\n",
       "      <td>C</td>\n",
       "      <td>Cleveland Cavaliers</td>\n",
       "      <td>10.522500</td>\n",
       "    </tr>\n",
       "    <tr>\n",
       "      <th>Iman Shumpert</th>\n",
       "      <td>SG</td>\n",
       "      <td>Cleveland Cavaliers</td>\n",
       "      <td>8.988765</td>\n",
       "    </tr>\n",
       "    <tr>\n",
       "      <th>Timofey Mozgov</th>\n",
       "      <td>C</td>\n",
       "      <td>Cleveland Cavaliers</td>\n",
       "      <td>4.950000</td>\n",
       "    </tr>\n",
       "    <tr>\n",
       "      <th>Mo Williams</th>\n",
       "      <td>PG</td>\n",
       "      <td>Cleveland Cavaliers</td>\n",
       "      <td>2.100000</td>\n",
       "    </tr>\n",
       "    <tr>\n",
       "      <th>Sasha Kaun</th>\n",
       "      <td>C</td>\n",
       "      <td>Cleveland Cavaliers</td>\n",
       "      <td>1.276000</td>\n",
       "    </tr>\n",
       "    <tr>\n",
       "      <th>Matthew Dellavedova</th>\n",
       "      <td>PG</td>\n",
       "      <td>Cleveland Cavaliers</td>\n",
       "      <td>1.147276</td>\n",
       "    </tr>\n",
       "  </tbody>\n",
       "</table>\n",
       "</div>"
      ],
      "text/plain": [
       "                    POSITION                 TEAM  2015_SALARY\n",
       "PLAYER                                                        \n",
       "LeBron James              SF  Cleveland Cavaliers    22.970500\n",
       "Kevin Love                PF  Cleveland Cavaliers    19.689000\n",
       "Kyrie Irving              PG  Cleveland Cavaliers    16.407501\n",
       "Tristan Thompson           C  Cleveland Cavaliers    14.260870\n",
       "Brendan Haywood            C  Cleveland Cavaliers    10.522500\n",
       "Iman Shumpert             SG  Cleveland Cavaliers     8.988765\n",
       "Timofey Mozgov             C  Cleveland Cavaliers     4.950000\n",
       "Mo Williams               PG  Cleveland Cavaliers     2.100000\n",
       "Sasha Kaun                 C  Cleveland Cavaliers     1.276000\n",
       "Matthew Dellavedova       PG  Cleveland Cavaliers     1.147276"
      ]
     },
     "execution_count": 37,
     "metadata": {},
     "output_type": "execute_result"
    }
   ],
   "source": [
    "cavs = salaries[salaries.get('TEAM') == 'Cleveland Cavaliers']\n",
    "cavs"
   ]
  },
  {
   "cell_type": "code",
   "execution_count": 38,
   "metadata": {},
   "outputs": [
    {
     "data": {
      "text/plain": [
       "102.31241200000001"
      ]
     },
     "execution_count": 38,
     "metadata": {},
     "output_type": "execute_result"
    }
   ],
   "source": [
    "#- use series method .sum()\n",
    "cavs.get('2015_SALARY').sum()"
   ]
  },
  {
   "cell_type": "markdown",
   "metadata": {
    "slideshow": {
     "slide_type": "slide"
    }
   },
   "source": [
    "# GroupBy"
   ]
  },
  {
   "cell_type": "markdown",
   "metadata": {
    "slideshow": {
     "slide_type": "slide"
    }
   },
   "source": [
    "## Use Case: What team had the highest payroll?\n",
    "\n",
    "- We can find the payroll for one team.\n",
    "- But how can we find the payroll for *all* teams at once?\n",
    "- Can we somehow group the rows of the table by team name?"
   ]
  },
  {
   "cell_type": "code",
   "execution_count": 39,
   "metadata": {},
   "outputs": [
    {
     "data": {
      "text/html": [
       "<div>\n",
       "<style scoped>\n",
       "    .dataframe tbody tr th:only-of-type {\n",
       "        vertical-align: middle;\n",
       "    }\n",
       "\n",
       "    .dataframe tbody tr th {\n",
       "        vertical-align: top;\n",
       "    }\n",
       "\n",
       "    .dataframe thead th {\n",
       "        text-align: right;\n",
       "    }\n",
       "</style>\n",
       "<table border=\"1\" class=\"dataframe\">\n",
       "  <thead>\n",
       "    <tr style=\"text-align: right;\">\n",
       "      <th></th>\n",
       "      <th>POSITION</th>\n",
       "      <th>TEAM</th>\n",
       "      <th>2015_SALARY</th>\n",
       "    </tr>\n",
       "    <tr>\n",
       "      <th>PLAYER</th>\n",
       "      <th></th>\n",
       "      <th></th>\n",
       "      <th></th>\n",
       "    </tr>\n",
       "  </thead>\n",
       "  <tbody>\n",
       "    <tr>\n",
       "      <th>Paul Millsap</th>\n",
       "      <td>PF</td>\n",
       "      <td>Atlanta Hawks</td>\n",
       "      <td>18.671659</td>\n",
       "    </tr>\n",
       "    <tr>\n",
       "      <th>Al Horford</th>\n",
       "      <td>C</td>\n",
       "      <td>Atlanta Hawks</td>\n",
       "      <td>12.000000</td>\n",
       "    </tr>\n",
       "    <tr>\n",
       "      <th>Tiago Splitter</th>\n",
       "      <td>C</td>\n",
       "      <td>Atlanta Hawks</td>\n",
       "      <td>9.756250</td>\n",
       "    </tr>\n",
       "    <tr>\n",
       "      <th>Jeff Teague</th>\n",
       "      <td>PG</td>\n",
       "      <td>Atlanta Hawks</td>\n",
       "      <td>8.000000</td>\n",
       "    </tr>\n",
       "    <tr>\n",
       "      <th>Kyle Korver</th>\n",
       "      <td>SG</td>\n",
       "      <td>Atlanta Hawks</td>\n",
       "      <td>5.746479</td>\n",
       "    </tr>\n",
       "    <tr>\n",
       "      <th>...</th>\n",
       "      <td>...</td>\n",
       "      <td>...</td>\n",
       "      <td>...</td>\n",
       "    </tr>\n",
       "    <tr>\n",
       "      <th>Gary Neal</th>\n",
       "      <td>PG</td>\n",
       "      <td>Washington Wizards</td>\n",
       "      <td>2.139000</td>\n",
       "    </tr>\n",
       "    <tr>\n",
       "      <th>DeJuan Blair</th>\n",
       "      <td>C</td>\n",
       "      <td>Washington Wizards</td>\n",
       "      <td>2.000000</td>\n",
       "    </tr>\n",
       "    <tr>\n",
       "      <th>Kelly Oubre Jr.</th>\n",
       "      <td>SF</td>\n",
       "      <td>Washington Wizards</td>\n",
       "      <td>1.920240</td>\n",
       "    </tr>\n",
       "    <tr>\n",
       "      <th>Garrett Temple</th>\n",
       "      <td>SG</td>\n",
       "      <td>Washington Wizards</td>\n",
       "      <td>1.100602</td>\n",
       "    </tr>\n",
       "    <tr>\n",
       "      <th>Jarell Eddie</th>\n",
       "      <td>SG</td>\n",
       "      <td>Washington Wizards</td>\n",
       "      <td>0.561716</td>\n",
       "    </tr>\n",
       "  </tbody>\n",
       "</table>\n",
       "<p>417 rows × 3 columns</p>\n",
       "</div>"
      ],
      "text/plain": [
       "                POSITION                TEAM  2015_SALARY\n",
       "PLAYER                                                   \n",
       "Paul Millsap          PF       Atlanta Hawks    18.671659\n",
       "Al Horford             C       Atlanta Hawks    12.000000\n",
       "Tiago Splitter         C       Atlanta Hawks     9.756250\n",
       "Jeff Teague           PG       Atlanta Hawks     8.000000\n",
       "Kyle Korver           SG       Atlanta Hawks     5.746479\n",
       "...                  ...                 ...          ...\n",
       "Gary Neal             PG  Washington Wizards     2.139000\n",
       "DeJuan Blair           C  Washington Wizards     2.000000\n",
       "Kelly Oubre Jr.       SF  Washington Wizards     1.920240\n",
       "Garrett Temple        SG  Washington Wizards     1.100602\n",
       "Jarell Eddie          SG  Washington Wizards     0.561716\n",
       "\n",
       "[417 rows x 3 columns]"
      ]
     },
     "execution_count": 39,
     "metadata": {},
     "output_type": "execute_result"
    }
   ],
   "source": [
    "salaries"
   ]
  },
  {
   "cell_type": "markdown",
   "metadata": {},
   "source": [
    "## `.groupby`\n"
   ]
  },
  {
   "cell_type": "code",
   "execution_count": 40,
   "metadata": {
    "slideshow": {
     "slide_type": "slide"
    }
   },
   "outputs": [
    {
     "data": {
      "text/html": [
       "<div>\n",
       "<style scoped>\n",
       "    .dataframe tbody tr th:only-of-type {\n",
       "        vertical-align: middle;\n",
       "    }\n",
       "\n",
       "    .dataframe tbody tr th {\n",
       "        vertical-align: top;\n",
       "    }\n",
       "\n",
       "    .dataframe thead th {\n",
       "        text-align: right;\n",
       "    }\n",
       "</style>\n",
       "<table border=\"1\" class=\"dataframe\">\n",
       "  <thead>\n",
       "    <tr style=\"text-align: right;\">\n",
       "      <th></th>\n",
       "      <th>2015_SALARY</th>\n",
       "    </tr>\n",
       "    <tr>\n",
       "      <th>TEAM</th>\n",
       "      <th></th>\n",
       "    </tr>\n",
       "  </thead>\n",
       "  <tbody>\n",
       "    <tr>\n",
       "      <th>Atlanta Hawks</th>\n",
       "      <td>69.573103</td>\n",
       "    </tr>\n",
       "    <tr>\n",
       "      <th>Boston Celtics</th>\n",
       "      <td>50.285499</td>\n",
       "    </tr>\n",
       "    <tr>\n",
       "      <th>Brooklyn Nets</th>\n",
       "      <td>57.306976</td>\n",
       "    </tr>\n",
       "    <tr>\n",
       "      <th>Charlotte Hornets</th>\n",
       "      <td>84.102397</td>\n",
       "    </tr>\n",
       "    <tr>\n",
       "      <th>Chicago Bulls</th>\n",
       "      <td>78.820890</td>\n",
       "    </tr>\n",
       "    <tr>\n",
       "      <th>...</th>\n",
       "      <td>...</td>\n",
       "    </tr>\n",
       "    <tr>\n",
       "      <th>Sacramento Kings</th>\n",
       "      <td>68.384890</td>\n",
       "    </tr>\n",
       "    <tr>\n",
       "      <th>San Antonio Spurs</th>\n",
       "      <td>84.652074</td>\n",
       "    </tr>\n",
       "    <tr>\n",
       "      <th>Toronto Raptors</th>\n",
       "      <td>74.672620</td>\n",
       "    </tr>\n",
       "    <tr>\n",
       "      <th>Utah Jazz</th>\n",
       "      <td>52.631878</td>\n",
       "    </tr>\n",
       "    <tr>\n",
       "      <th>Washington Wizards</th>\n",
       "      <td>90.047498</td>\n",
       "    </tr>\n",
       "  </tbody>\n",
       "</table>\n",
       "<p>30 rows × 1 columns</p>\n",
       "</div>"
      ],
      "text/plain": [
       "                    2015_SALARY\n",
       "TEAM                           \n",
       "Atlanta Hawks         69.573103\n",
       "Boston Celtics        50.285499\n",
       "Brooklyn Nets         57.306976\n",
       "Charlotte Hornets     84.102397\n",
       "Chicago Bulls         78.820890\n",
       "...                         ...\n",
       "Sacramento Kings      68.384890\n",
       "San Antonio Spurs     84.652074\n",
       "Toronto Raptors       74.672620\n",
       "Utah Jazz             52.631878\n",
       "Washington Wizards    90.047498\n",
       "\n",
       "[30 rows x 1 columns]"
      ]
     },
     "execution_count": 40,
     "metadata": {},
     "output_type": "execute_result"
    }
   ],
   "source": [
    "salaries.groupby('TEAM').sum()"
   ]
  },
  {
   "cell_type": "markdown",
   "metadata": {
    "slideshow": {
     "slide_type": "slide"
    }
   },
   "source": [
    "## `.groupby`\n",
    "\n",
    "1. Use `.groupby(column_name)` to gather rows which have the same value in the column\n",
    "2. Apply an *aggregation* function *within* each group\n",
    "\n",
    "The aggregation is applied to each column.\n",
    "\n",
    "Some aggregation functions: `.count()`, `.sum()`, `.mean()`, `.median()`, `.max()`, `.min()`"
   ]
  },
  {
   "cell_type": "code",
   "execution_count": 41,
   "metadata": {
    "slideshow": {
     "slide_type": "slide"
    }
   },
   "outputs": [
    {
     "data": {
      "text/html": [
       "<div>\n",
       "<style scoped>\n",
       "    .dataframe tbody tr th:only-of-type {\n",
       "        vertical-align: middle;\n",
       "    }\n",
       "\n",
       "    .dataframe tbody tr th {\n",
       "        vertical-align: top;\n",
       "    }\n",
       "\n",
       "    .dataframe thead th {\n",
       "        text-align: right;\n",
       "    }\n",
       "</style>\n",
       "<table border=\"1\" class=\"dataframe\">\n",
       "  <thead>\n",
       "    <tr style=\"text-align: right;\">\n",
       "      <th></th>\n",
       "      <th>POSITION</th>\n",
       "      <th>TEAM</th>\n",
       "      <th>2015_SALARY</th>\n",
       "    </tr>\n",
       "    <tr>\n",
       "      <th>PLAYER</th>\n",
       "      <th></th>\n",
       "      <th></th>\n",
       "      <th></th>\n",
       "    </tr>\n",
       "  </thead>\n",
       "  <tbody>\n",
       "    <tr>\n",
       "      <th>Paul Millsap</th>\n",
       "      <td>PF</td>\n",
       "      <td>Atlanta Hawks</td>\n",
       "      <td>18.671659</td>\n",
       "    </tr>\n",
       "    <tr>\n",
       "      <th>Al Horford</th>\n",
       "      <td>C</td>\n",
       "      <td>Atlanta Hawks</td>\n",
       "      <td>12.000000</td>\n",
       "    </tr>\n",
       "    <tr>\n",
       "      <th>Tiago Splitter</th>\n",
       "      <td>C</td>\n",
       "      <td>Atlanta Hawks</td>\n",
       "      <td>9.756250</td>\n",
       "    </tr>\n",
       "    <tr>\n",
       "      <th>Jeff Teague</th>\n",
       "      <td>PG</td>\n",
       "      <td>Atlanta Hawks</td>\n",
       "      <td>8.000000</td>\n",
       "    </tr>\n",
       "    <tr>\n",
       "      <th>Kyle Korver</th>\n",
       "      <td>SG</td>\n",
       "      <td>Atlanta Hawks</td>\n",
       "      <td>5.746479</td>\n",
       "    </tr>\n",
       "    <tr>\n",
       "      <th>...</th>\n",
       "      <td>...</td>\n",
       "      <td>...</td>\n",
       "      <td>...</td>\n",
       "    </tr>\n",
       "    <tr>\n",
       "      <th>Gary Neal</th>\n",
       "      <td>PG</td>\n",
       "      <td>Washington Wizards</td>\n",
       "      <td>2.139000</td>\n",
       "    </tr>\n",
       "    <tr>\n",
       "      <th>DeJuan Blair</th>\n",
       "      <td>C</td>\n",
       "      <td>Washington Wizards</td>\n",
       "      <td>2.000000</td>\n",
       "    </tr>\n",
       "    <tr>\n",
       "      <th>Kelly Oubre Jr.</th>\n",
       "      <td>SF</td>\n",
       "      <td>Washington Wizards</td>\n",
       "      <td>1.920240</td>\n",
       "    </tr>\n",
       "    <tr>\n",
       "      <th>Garrett Temple</th>\n",
       "      <td>SG</td>\n",
       "      <td>Washington Wizards</td>\n",
       "      <td>1.100602</td>\n",
       "    </tr>\n",
       "    <tr>\n",
       "      <th>Jarell Eddie</th>\n",
       "      <td>SG</td>\n",
       "      <td>Washington Wizards</td>\n",
       "      <td>0.561716</td>\n",
       "    </tr>\n",
       "  </tbody>\n",
       "</table>\n",
       "<p>417 rows × 3 columns</p>\n",
       "</div>"
      ],
      "text/plain": [
       "                POSITION                TEAM  2015_SALARY\n",
       "PLAYER                                                   \n",
       "Paul Millsap          PF       Atlanta Hawks    18.671659\n",
       "Al Horford             C       Atlanta Hawks    12.000000\n",
       "Tiago Splitter         C       Atlanta Hawks     9.756250\n",
       "Jeff Teague           PG       Atlanta Hawks     8.000000\n",
       "Kyle Korver           SG       Atlanta Hawks     5.746479\n",
       "...                  ...                 ...          ...\n",
       "Gary Neal             PG  Washington Wizards     2.139000\n",
       "DeJuan Blair           C  Washington Wizards     2.000000\n",
       "Kelly Oubre Jr.       SF  Washington Wizards     1.920240\n",
       "Garrett Temple        SG  Washington Wizards     1.100602\n",
       "Jarell Eddie          SG  Washington Wizards     0.561716\n",
       "\n",
       "[417 rows x 3 columns]"
      ]
     },
     "execution_count": 41,
     "metadata": {},
     "output_type": "execute_result"
    }
   ],
   "source": [
    "salaries"
   ]
  },
  {
   "cell_type": "markdown",
   "metadata": {
    "slideshow": {
     "slide_type": "slide"
    }
   },
   "source": [
    "## Interesting thing # 1\n",
    "\n",
    "- The index has changed to team names.\n",
    "- In general, the new row labels are the *group labels* (the thing that is used to determine if two rows were in same group)."
   ]
  },
  {
   "cell_type": "code",
   "execution_count": 42,
   "metadata": {},
   "outputs": [
    {
     "data": {
      "text/html": [
       "<div>\n",
       "<style scoped>\n",
       "    .dataframe tbody tr th:only-of-type {\n",
       "        vertical-align: middle;\n",
       "    }\n",
       "\n",
       "    .dataframe tbody tr th {\n",
       "        vertical-align: top;\n",
       "    }\n",
       "\n",
       "    .dataframe thead th {\n",
       "        text-align: right;\n",
       "    }\n",
       "</style>\n",
       "<table border=\"1\" class=\"dataframe\">\n",
       "  <thead>\n",
       "    <tr style=\"text-align: right;\">\n",
       "      <th></th>\n",
       "      <th>2015_SALARY</th>\n",
       "    </tr>\n",
       "    <tr>\n",
       "      <th>TEAM</th>\n",
       "      <th></th>\n",
       "    </tr>\n",
       "  </thead>\n",
       "  <tbody>\n",
       "    <tr>\n",
       "      <th>Atlanta Hawks</th>\n",
       "      <td>69.573103</td>\n",
       "    </tr>\n",
       "    <tr>\n",
       "      <th>Boston Celtics</th>\n",
       "      <td>50.285499</td>\n",
       "    </tr>\n",
       "    <tr>\n",
       "      <th>Brooklyn Nets</th>\n",
       "      <td>57.306976</td>\n",
       "    </tr>\n",
       "    <tr>\n",
       "      <th>Charlotte Hornets</th>\n",
       "      <td>84.102397</td>\n",
       "    </tr>\n",
       "    <tr>\n",
       "      <th>Chicago Bulls</th>\n",
       "      <td>78.820890</td>\n",
       "    </tr>\n",
       "    <tr>\n",
       "      <th>...</th>\n",
       "      <td>...</td>\n",
       "    </tr>\n",
       "    <tr>\n",
       "      <th>Sacramento Kings</th>\n",
       "      <td>68.384890</td>\n",
       "    </tr>\n",
       "    <tr>\n",
       "      <th>San Antonio Spurs</th>\n",
       "      <td>84.652074</td>\n",
       "    </tr>\n",
       "    <tr>\n",
       "      <th>Toronto Raptors</th>\n",
       "      <td>74.672620</td>\n",
       "    </tr>\n",
       "    <tr>\n",
       "      <th>Utah Jazz</th>\n",
       "      <td>52.631878</td>\n",
       "    </tr>\n",
       "    <tr>\n",
       "      <th>Washington Wizards</th>\n",
       "      <td>90.047498</td>\n",
       "    </tr>\n",
       "  </tbody>\n",
       "</table>\n",
       "<p>30 rows × 1 columns</p>\n",
       "</div>"
      ],
      "text/plain": [
       "                    2015_SALARY\n",
       "TEAM                           \n",
       "Atlanta Hawks         69.573103\n",
       "Boston Celtics        50.285499\n",
       "Brooklyn Nets         57.306976\n",
       "Charlotte Hornets     84.102397\n",
       "Chicago Bulls         78.820890\n",
       "...                         ...\n",
       "Sacramento Kings      68.384890\n",
       "San Antonio Spurs     84.652074\n",
       "Toronto Raptors       74.672620\n",
       "Utah Jazz             52.631878\n",
       "Washington Wizards    90.047498\n",
       "\n",
       "[30 rows x 1 columns]"
      ]
     },
     "execution_count": 42,
     "metadata": {},
     "output_type": "execute_result"
    }
   ],
   "source": [
    "salaries.groupby('TEAM').sum()"
   ]
  },
  {
   "cell_type": "markdown",
   "metadata": {
    "slideshow": {
     "slide_type": "slide"
    }
   },
   "source": [
    "## Interesting thing #2\n",
    "\n",
    "- The `POSITION` and `TEAM` columns have disappeared. Why?"
   ]
  },
  {
   "cell_type": "code",
   "execution_count": 43,
   "metadata": {},
   "outputs": [
    {
     "data": {
      "text/html": [
       "<div>\n",
       "<style scoped>\n",
       "    .dataframe tbody tr th:only-of-type {\n",
       "        vertical-align: middle;\n",
       "    }\n",
       "\n",
       "    .dataframe tbody tr th {\n",
       "        vertical-align: top;\n",
       "    }\n",
       "\n",
       "    .dataframe thead th {\n",
       "        text-align: right;\n",
       "    }\n",
       "</style>\n",
       "<table border=\"1\" class=\"dataframe\">\n",
       "  <thead>\n",
       "    <tr style=\"text-align: right;\">\n",
       "      <th></th>\n",
       "      <th>2015_SALARY</th>\n",
       "    </tr>\n",
       "    <tr>\n",
       "      <th>TEAM</th>\n",
       "      <th></th>\n",
       "    </tr>\n",
       "  </thead>\n",
       "  <tbody>\n",
       "    <tr>\n",
       "      <th>Atlanta Hawks</th>\n",
       "      <td>69.573103</td>\n",
       "    </tr>\n",
       "    <tr>\n",
       "      <th>Boston Celtics</th>\n",
       "      <td>50.285499</td>\n",
       "    </tr>\n",
       "    <tr>\n",
       "      <th>Brooklyn Nets</th>\n",
       "      <td>57.306976</td>\n",
       "    </tr>\n",
       "    <tr>\n",
       "      <th>Charlotte Hornets</th>\n",
       "      <td>84.102397</td>\n",
       "    </tr>\n",
       "    <tr>\n",
       "      <th>Chicago Bulls</th>\n",
       "      <td>78.820890</td>\n",
       "    </tr>\n",
       "    <tr>\n",
       "      <th>...</th>\n",
       "      <td>...</td>\n",
       "    </tr>\n",
       "    <tr>\n",
       "      <th>Sacramento Kings</th>\n",
       "      <td>68.384890</td>\n",
       "    </tr>\n",
       "    <tr>\n",
       "      <th>San Antonio Spurs</th>\n",
       "      <td>84.652074</td>\n",
       "    </tr>\n",
       "    <tr>\n",
       "      <th>Toronto Raptors</th>\n",
       "      <td>74.672620</td>\n",
       "    </tr>\n",
       "    <tr>\n",
       "      <th>Utah Jazz</th>\n",
       "      <td>52.631878</td>\n",
       "    </tr>\n",
       "    <tr>\n",
       "      <th>Washington Wizards</th>\n",
       "      <td>90.047498</td>\n",
       "    </tr>\n",
       "  </tbody>\n",
       "</table>\n",
       "<p>30 rows × 1 columns</p>\n",
       "</div>"
      ],
      "text/plain": [
       "                    2015_SALARY\n",
       "TEAM                           \n",
       "Atlanta Hawks         69.573103\n",
       "Boston Celtics        50.285499\n",
       "Brooklyn Nets         57.306976\n",
       "Charlotte Hornets     84.102397\n",
       "Chicago Bulls         78.820890\n",
       "...                         ...\n",
       "Sacramento Kings      68.384890\n",
       "San Antonio Spurs     84.652074\n",
       "Toronto Raptors       74.672620\n",
       "Utah Jazz             52.631878\n",
       "Washington Wizards    90.047498\n",
       "\n",
       "[30 rows x 1 columns]"
      ]
     },
     "execution_count": 43,
     "metadata": {},
     "output_type": "execute_result"
    }
   ],
   "source": [
    "salaries.groupby('TEAM').sum()"
   ]
  },
  {
   "cell_type": "markdown",
   "metadata": {
    "slideshow": {
     "slide_type": "slide"
    }
   },
   "source": [
    "## Disappearing columns\n",
    "\n",
    "- The aggregation function is applied to each column.\n",
    "- If it doesn't make sense to apply it to a particular column, that column will disappear.\n",
    "- Example: can't sum strings, like in `POSITION` column.\n",
    "- Surprising example: *can* `max()` strings (alphabetically last)"
   ]
  },
  {
   "cell_type": "code",
   "execution_count": 44,
   "metadata": {},
   "outputs": [
    {
     "data": {
      "text/html": [
       "<div>\n",
       "<style scoped>\n",
       "    .dataframe tbody tr th:only-of-type {\n",
       "        vertical-align: middle;\n",
       "    }\n",
       "\n",
       "    .dataframe tbody tr th {\n",
       "        vertical-align: top;\n",
       "    }\n",
       "\n",
       "    .dataframe thead th {\n",
       "        text-align: right;\n",
       "    }\n",
       "</style>\n",
       "<table border=\"1\" class=\"dataframe\">\n",
       "  <thead>\n",
       "    <tr style=\"text-align: right;\">\n",
       "      <th></th>\n",
       "      <th>POSITION</th>\n",
       "      <th>2015_SALARY</th>\n",
       "    </tr>\n",
       "    <tr>\n",
       "      <th>TEAM</th>\n",
       "      <th></th>\n",
       "      <th></th>\n",
       "    </tr>\n",
       "  </thead>\n",
       "  <tbody>\n",
       "    <tr>\n",
       "      <th>Atlanta Hawks</th>\n",
       "      <td>SG</td>\n",
       "      <td>18.671659</td>\n",
       "    </tr>\n",
       "    <tr>\n",
       "      <th>Boston Celtics</th>\n",
       "      <td>SG</td>\n",
       "      <td>7.730337</td>\n",
       "    </tr>\n",
       "    <tr>\n",
       "      <th>Brooklyn Nets</th>\n",
       "      <td>SG</td>\n",
       "      <td>24.894863</td>\n",
       "    </tr>\n",
       "    <tr>\n",
       "      <th>Charlotte Hornets</th>\n",
       "      <td>SG</td>\n",
       "      <td>13.500000</td>\n",
       "    </tr>\n",
       "    <tr>\n",
       "      <th>Chicago Bulls</th>\n",
       "      <td>SG</td>\n",
       "      <td>20.093064</td>\n",
       "    </tr>\n",
       "    <tr>\n",
       "      <th>...</th>\n",
       "      <td>...</td>\n",
       "      <td>...</td>\n",
       "    </tr>\n",
       "    <tr>\n",
       "      <th>Sacramento Kings</th>\n",
       "      <td>SG</td>\n",
       "      <td>15.851950</td>\n",
       "    </tr>\n",
       "    <tr>\n",
       "      <th>San Antonio Spurs</th>\n",
       "      <td>SG</td>\n",
       "      <td>19.689000</td>\n",
       "    </tr>\n",
       "    <tr>\n",
       "      <th>Toronto Raptors</th>\n",
       "      <td>SG</td>\n",
       "      <td>13.600000</td>\n",
       "    </tr>\n",
       "    <tr>\n",
       "      <th>Utah Jazz</th>\n",
       "      <td>SG</td>\n",
       "      <td>15.409570</td>\n",
       "    </tr>\n",
       "    <tr>\n",
       "      <th>Washington Wizards</th>\n",
       "      <td>SG</td>\n",
       "      <td>15.851950</td>\n",
       "    </tr>\n",
       "  </tbody>\n",
       "</table>\n",
       "<p>30 rows × 2 columns</p>\n",
       "</div>"
      ],
      "text/plain": [
       "                   POSITION  2015_SALARY\n",
       "TEAM                                    \n",
       "Atlanta Hawks            SG    18.671659\n",
       "Boston Celtics           SG     7.730337\n",
       "Brooklyn Nets            SG    24.894863\n",
       "Charlotte Hornets        SG    13.500000\n",
       "Chicago Bulls            SG    20.093064\n",
       "...                     ...          ...\n",
       "Sacramento Kings         SG    15.851950\n",
       "San Antonio Spurs        SG    19.689000\n",
       "Toronto Raptors          SG    13.600000\n",
       "Utah Jazz                SG    15.409570\n",
       "Washington Wizards       SG    15.851950\n",
       "\n",
       "[30 rows x 2 columns]"
      ]
     },
     "execution_count": 44,
     "metadata": {},
     "output_type": "execute_result"
    }
   ],
   "source": [
    "salaries.groupby('TEAM').max()"
   ]
  },
  {
   "cell_type": "markdown",
   "metadata": {
    "slideshow": {
     "slide_type": "slide"
    }
   },
   "source": [
    "## Use Case: What team has the highest payroll?\n",
    "\n",
    "1. Group by team.\n",
    "2. Within each group, compute total salary.\n",
    "3. Sort by salary, descending order.\n",
    "4. Take the name of the first team."
   ]
  },
  {
   "cell_type": "code",
   "execution_count": 45,
   "metadata": {},
   "outputs": [
    {
     "data": {
      "text/plain": [
       "'Cleveland Cavaliers'"
      ]
     },
     "execution_count": 45,
     "metadata": {},
     "output_type": "execute_result"
    }
   ],
   "source": [
    "#- group, sum, sort, index\n",
    "salaries.groupby('TEAM').sum().sort_values('2015_SALARY', ascending=False).index[0]"
   ]
  },
  {
   "cell_type": "markdown",
   "metadata": {
    "slideshow": {
     "slide_type": "slide"
    }
   },
   "source": [
    "## Use Case: How many players play each position?"
   ]
  },
  {
   "cell_type": "code",
   "execution_count": 46,
   "metadata": {},
   "outputs": [
    {
     "data": {
      "text/html": [
       "<div>\n",
       "<style scoped>\n",
       "    .dataframe tbody tr th:only-of-type {\n",
       "        vertical-align: middle;\n",
       "    }\n",
       "\n",
       "    .dataframe tbody tr th {\n",
       "        vertical-align: top;\n",
       "    }\n",
       "\n",
       "    .dataframe thead th {\n",
       "        text-align: right;\n",
       "    }\n",
       "</style>\n",
       "<table border=\"1\" class=\"dataframe\">\n",
       "  <thead>\n",
       "    <tr style=\"text-align: right;\">\n",
       "      <th></th>\n",
       "      <th>TEAM</th>\n",
       "      <th>2015_SALARY</th>\n",
       "    </tr>\n",
       "    <tr>\n",
       "      <th>POSITION</th>\n",
       "      <th></th>\n",
       "      <th></th>\n",
       "    </tr>\n",
       "  </thead>\n",
       "  <tbody>\n",
       "    <tr>\n",
       "      <th>C</th>\n",
       "      <td>69</td>\n",
       "      <td>69</td>\n",
       "    </tr>\n",
       "    <tr>\n",
       "      <th>PF</th>\n",
       "      <td>85</td>\n",
       "      <td>85</td>\n",
       "    </tr>\n",
       "    <tr>\n",
       "      <th>PG</th>\n",
       "      <td>85</td>\n",
       "      <td>85</td>\n",
       "    </tr>\n",
       "    <tr>\n",
       "      <th>SF</th>\n",
       "      <td>82</td>\n",
       "      <td>82</td>\n",
       "    </tr>\n",
       "    <tr>\n",
       "      <th>SG</th>\n",
       "      <td>96</td>\n",
       "      <td>96</td>\n",
       "    </tr>\n",
       "  </tbody>\n",
       "</table>\n",
       "</div>"
      ],
      "text/plain": [
       "          TEAM  2015_SALARY\n",
       "POSITION                   \n",
       "C           69           69\n",
       "PF          85           85\n",
       "PG          85           85\n",
       "SF          82           82\n",
       "SG          96           96"
      ]
     },
     "execution_count": 46,
     "metadata": {},
     "output_type": "execute_result"
    }
   ],
   "source": [
    "#- group, count\n",
    "each_position = salaries.groupby('POSITION').count()\n",
    "each_position"
   ]
  },
  {
   "cell_type": "markdown",
   "metadata": {
    "slideshow": {
     "slide_type": "slide"
    }
   },
   "source": [
    "## Better column names?\n",
    "\n",
    "To rename a column\n",
    "\n",
    "1. Add a new column with `.assign`\n",
    "2. Drop the old column(s) with `.drop(by=list_of_column_labels)`"
   ]
  },
  {
   "cell_type": "code",
   "execution_count": 47,
   "metadata": {},
   "outputs": [
    {
     "data": {
      "text/html": [
       "<div>\n",
       "<style scoped>\n",
       "    .dataframe tbody tr th:only-of-type {\n",
       "        vertical-align: middle;\n",
       "    }\n",
       "\n",
       "    .dataframe tbody tr th {\n",
       "        vertical-align: top;\n",
       "    }\n",
       "\n",
       "    .dataframe thead th {\n",
       "        text-align: right;\n",
       "    }\n",
       "</style>\n",
       "<table border=\"1\" class=\"dataframe\">\n",
       "  <thead>\n",
       "    <tr style=\"text-align: right;\">\n",
       "      <th></th>\n",
       "      <th>TEAM</th>\n",
       "      <th>2015_SALARY</th>\n",
       "      <th>COUNT</th>\n",
       "    </tr>\n",
       "    <tr>\n",
       "      <th>POSITION</th>\n",
       "      <th></th>\n",
       "      <th></th>\n",
       "      <th></th>\n",
       "    </tr>\n",
       "  </thead>\n",
       "  <tbody>\n",
       "    <tr>\n",
       "      <th>C</th>\n",
       "      <td>69</td>\n",
       "      <td>69</td>\n",
       "      <td>69</td>\n",
       "    </tr>\n",
       "    <tr>\n",
       "      <th>PF</th>\n",
       "      <td>85</td>\n",
       "      <td>85</td>\n",
       "      <td>85</td>\n",
       "    </tr>\n",
       "    <tr>\n",
       "      <th>PG</th>\n",
       "      <td>85</td>\n",
       "      <td>85</td>\n",
       "      <td>85</td>\n",
       "    </tr>\n",
       "    <tr>\n",
       "      <th>SF</th>\n",
       "      <td>82</td>\n",
       "      <td>82</td>\n",
       "      <td>82</td>\n",
       "    </tr>\n",
       "    <tr>\n",
       "      <th>SG</th>\n",
       "      <td>96</td>\n",
       "      <td>96</td>\n",
       "      <td>96</td>\n",
       "    </tr>\n",
       "  </tbody>\n",
       "</table>\n",
       "</div>"
      ],
      "text/plain": [
       "          TEAM  2015_SALARY  COUNT\n",
       "POSITION                          \n",
       "C           69           69     69\n",
       "PF          85           85     85\n",
       "PG          85           85     85\n",
       "SF          82           82     82\n",
       "SG          96           96     96"
      ]
     },
     "execution_count": 47,
     "metadata": {},
     "output_type": "execute_result"
    }
   ],
   "source": [
    "counts = each_position.assign(COUNT=each_position.get('TEAM'))\n",
    "counts"
   ]
  },
  {
   "cell_type": "code",
   "execution_count": 48,
   "metadata": {},
   "outputs": [
    {
     "data": {
      "text/html": [
       "<div>\n",
       "<style scoped>\n",
       "    .dataframe tbody tr th:only-of-type {\n",
       "        vertical-align: middle;\n",
       "    }\n",
       "\n",
       "    .dataframe tbody tr th {\n",
       "        vertical-align: top;\n",
       "    }\n",
       "\n",
       "    .dataframe thead th {\n",
       "        text-align: right;\n",
       "    }\n",
       "</style>\n",
       "<table border=\"1\" class=\"dataframe\">\n",
       "  <thead>\n",
       "    <tr style=\"text-align: right;\">\n",
       "      <th></th>\n",
       "      <th>COUNT</th>\n",
       "    </tr>\n",
       "    <tr>\n",
       "      <th>POSITION</th>\n",
       "      <th></th>\n",
       "    </tr>\n",
       "  </thead>\n",
       "  <tbody>\n",
       "    <tr>\n",
       "      <th>C</th>\n",
       "      <td>69</td>\n",
       "    </tr>\n",
       "    <tr>\n",
       "      <th>PF</th>\n",
       "      <td>85</td>\n",
       "    </tr>\n",
       "    <tr>\n",
       "      <th>PG</th>\n",
       "      <td>85</td>\n",
       "    </tr>\n",
       "    <tr>\n",
       "      <th>SF</th>\n",
       "      <td>82</td>\n",
       "    </tr>\n",
       "    <tr>\n",
       "      <th>SG</th>\n",
       "      <td>96</td>\n",
       "    </tr>\n",
       "  </tbody>\n",
       "</table>\n",
       "</div>"
      ],
      "text/plain": [
       "          COUNT\n",
       "POSITION       \n",
       "C            69\n",
       "PF           85\n",
       "PG           85\n",
       "SF           82\n",
       "SG           96"
      ]
     },
     "execution_count": 48,
     "metadata": {},
     "output_type": "execute_result"
    }
   ],
   "source": [
    "counts.drop(columns=['TEAM', '2015_SALARY'])"
   ]
  },
  {
   "cell_type": "markdown",
   "metadata": {},
   "source": [
    "# IMDB"
   ]
  },
  {
   "cell_type": "code",
   "execution_count": 49,
   "metadata": {},
   "outputs": [
    {
     "data": {
      "text/html": [
       "<div>\n",
       "<style scoped>\n",
       "    .dataframe tbody tr th:only-of-type {\n",
       "        vertical-align: middle;\n",
       "    }\n",
       "\n",
       "    .dataframe tbody tr th {\n",
       "        vertical-align: top;\n",
       "    }\n",
       "\n",
       "    .dataframe thead th {\n",
       "        text-align: right;\n",
       "    }\n",
       "</style>\n",
       "<table border=\"1\" class=\"dataframe\">\n",
       "  <thead>\n",
       "    <tr style=\"text-align: right;\">\n",
       "      <th></th>\n",
       "      <th>Votes</th>\n",
       "      <th>Rating</th>\n",
       "      <th>Year</th>\n",
       "      <th>Decade</th>\n",
       "    </tr>\n",
       "    <tr>\n",
       "      <th>Title</th>\n",
       "      <th></th>\n",
       "      <th></th>\n",
       "      <th></th>\n",
       "      <th></th>\n",
       "    </tr>\n",
       "  </thead>\n",
       "  <tbody>\n",
       "    <tr>\n",
       "      <th>M</th>\n",
       "      <td>88355</td>\n",
       "      <td>8.4</td>\n",
       "      <td>1931</td>\n",
       "      <td>1930</td>\n",
       "    </tr>\n",
       "    <tr>\n",
       "      <th>Singin' in the Rain</th>\n",
       "      <td>132823</td>\n",
       "      <td>8.3</td>\n",
       "      <td>1952</td>\n",
       "      <td>1950</td>\n",
       "    </tr>\n",
       "    <tr>\n",
       "      <th>All About Eve</th>\n",
       "      <td>74178</td>\n",
       "      <td>8.3</td>\n",
       "      <td>1950</td>\n",
       "      <td>1950</td>\n",
       "    </tr>\n",
       "    <tr>\n",
       "      <th>Léon</th>\n",
       "      <td>635139</td>\n",
       "      <td>8.6</td>\n",
       "      <td>1994</td>\n",
       "      <td>1990</td>\n",
       "    </tr>\n",
       "    <tr>\n",
       "      <th>The Elephant Man</th>\n",
       "      <td>145514</td>\n",
       "      <td>8.2</td>\n",
       "      <td>1980</td>\n",
       "      <td>1980</td>\n",
       "    </tr>\n",
       "    <tr>\n",
       "      <th>...</th>\n",
       "      <td>...</td>\n",
       "      <td>...</td>\n",
       "      <td>...</td>\n",
       "      <td>...</td>\n",
       "    </tr>\n",
       "    <tr>\n",
       "      <th>Forrest Gump</th>\n",
       "      <td>1078416</td>\n",
       "      <td>8.7</td>\n",
       "      <td>1994</td>\n",
       "      <td>1990</td>\n",
       "    </tr>\n",
       "    <tr>\n",
       "      <th>Le salaire de la peur</th>\n",
       "      <td>31003</td>\n",
       "      <td>8.1</td>\n",
       "      <td>1953</td>\n",
       "      <td>1950</td>\n",
       "    </tr>\n",
       "    <tr>\n",
       "      <th>3 Idiots</th>\n",
       "      <td>167076</td>\n",
       "      <td>8.2</td>\n",
       "      <td>2009</td>\n",
       "      <td>2000</td>\n",
       "    </tr>\n",
       "    <tr>\n",
       "      <th>Network</th>\n",
       "      <td>91689</td>\n",
       "      <td>8.1</td>\n",
       "      <td>1976</td>\n",
       "      <td>1970</td>\n",
       "    </tr>\n",
       "    <tr>\n",
       "      <th>Eternal Sunshine of the Spotless Mind</th>\n",
       "      <td>589477</td>\n",
       "      <td>8.3</td>\n",
       "      <td>2004</td>\n",
       "      <td>2000</td>\n",
       "    </tr>\n",
       "  </tbody>\n",
       "</table>\n",
       "<p>250 rows × 4 columns</p>\n",
       "</div>"
      ],
      "text/plain": [
       "                                         Votes  Rating  Year  Decade\n",
       "Title                                                               \n",
       "M                                        88355     8.4  1931    1930\n",
       "Singin' in the Rain                     132823     8.3  1952    1950\n",
       "All About Eve                            74178     8.3  1950    1950\n",
       "Léon                                    635139     8.6  1994    1990\n",
       "The Elephant Man                        145514     8.2  1980    1980\n",
       "...                                        ...     ...   ...     ...\n",
       "Forrest Gump                           1078416     8.7  1994    1990\n",
       "Le salaire de la peur                    31003     8.1  1953    1950\n",
       "3 Idiots                                167076     8.2  2009    2000\n",
       "Network                                  91689     8.1  1976    1970\n",
       "Eternal Sunshine of the Spotless Mind   589477     8.3  2004    2000\n",
       "\n",
       "[250 rows x 4 columns]"
      ]
     },
     "execution_count": 49,
     "metadata": {},
     "output_type": "execute_result"
    }
   ],
   "source": [
    "imdb = bpd.read_csv('imdb.csv').set_index('Title')\n",
    "imdb"
   ]
  },
  {
   "cell_type": "markdown",
   "metadata": {
    "slideshow": {
     "slide_type": "slide"
    }
   },
   "source": [
    "## What was the highest rated movie of the 1990's?"
   ]
  },
  {
   "cell_type": "code",
   "execution_count": 50,
   "metadata": {},
   "outputs": [
    {
     "data": {
      "text/plain": [
       "'The Shawshank Redemption'"
      ]
     },
     "execution_count": 50,
     "metadata": {},
     "output_type": "execute_result"
    }
   ],
   "source": [
    "#- group or select?\n",
    "imdb[imdb.get('Decade') == 1990].sort_values('Rating').index[-1]"
   ]
  },
  {
   "cell_type": "markdown",
   "metadata": {
    "slideshow": {
     "slide_type": "slide"
    }
   },
   "source": [
    "## How many movies appear from each decade?"
   ]
  },
  {
   "cell_type": "code",
   "execution_count": 51,
   "metadata": {},
   "outputs": [
    {
     "data": {
      "text/html": [
       "<div>\n",
       "<style scoped>\n",
       "    .dataframe tbody tr th:only-of-type {\n",
       "        vertical-align: middle;\n",
       "    }\n",
       "\n",
       "    .dataframe tbody tr th {\n",
       "        vertical-align: top;\n",
       "    }\n",
       "\n",
       "    .dataframe thead th {\n",
       "        text-align: right;\n",
       "    }\n",
       "</style>\n",
       "<table border=\"1\" class=\"dataframe\">\n",
       "  <thead>\n",
       "    <tr style=\"text-align: right;\">\n",
       "      <th></th>\n",
       "      <th>Votes</th>\n",
       "      <th>Rating</th>\n",
       "      <th>Year</th>\n",
       "    </tr>\n",
       "    <tr>\n",
       "      <th>Decade</th>\n",
       "      <th></th>\n",
       "      <th></th>\n",
       "      <th></th>\n",
       "    </tr>\n",
       "  </thead>\n",
       "  <tbody>\n",
       "    <tr>\n",
       "      <th>1920</th>\n",
       "      <td>4</td>\n",
       "      <td>4</td>\n",
       "      <td>4</td>\n",
       "    </tr>\n",
       "    <tr>\n",
       "      <th>1930</th>\n",
       "      <td>7</td>\n",
       "      <td>7</td>\n",
       "      <td>7</td>\n",
       "    </tr>\n",
       "    <tr>\n",
       "      <th>1940</th>\n",
       "      <td>14</td>\n",
       "      <td>14</td>\n",
       "      <td>14</td>\n",
       "    </tr>\n",
       "    <tr>\n",
       "      <th>1950</th>\n",
       "      <td>30</td>\n",
       "      <td>30</td>\n",
       "      <td>30</td>\n",
       "    </tr>\n",
       "    <tr>\n",
       "      <th>1960</th>\n",
       "      <td>22</td>\n",
       "      <td>22</td>\n",
       "      <td>22</td>\n",
       "    </tr>\n",
       "    <tr>\n",
       "      <th>1970</th>\n",
       "      <td>21</td>\n",
       "      <td>21</td>\n",
       "      <td>21</td>\n",
       "    </tr>\n",
       "    <tr>\n",
       "      <th>1980</th>\n",
       "      <td>31</td>\n",
       "      <td>31</td>\n",
       "      <td>31</td>\n",
       "    </tr>\n",
       "    <tr>\n",
       "      <th>1990</th>\n",
       "      <td>42</td>\n",
       "      <td>42</td>\n",
       "      <td>42</td>\n",
       "    </tr>\n",
       "    <tr>\n",
       "      <th>2000</th>\n",
       "      <td>50</td>\n",
       "      <td>50</td>\n",
       "      <td>50</td>\n",
       "    </tr>\n",
       "    <tr>\n",
       "      <th>2010</th>\n",
       "      <td>29</td>\n",
       "      <td>29</td>\n",
       "      <td>29</td>\n",
       "    </tr>\n",
       "  </tbody>\n",
       "</table>\n",
       "</div>"
      ],
      "text/plain": [
       "        Votes  Rating  Year\n",
       "Decade                     \n",
       "1920        4       4     4\n",
       "1930        7       7     7\n",
       "1940       14      14    14\n",
       "1950       30      30    30\n",
       "1960       22      22    22\n",
       "1970       21      21    21\n",
       "1980       31      31    31\n",
       "1990       42      42    42\n",
       "2000       50      50    50\n",
       "2010       29      29    29"
      ]
     },
     "execution_count": 51,
     "metadata": {},
     "output_type": "execute_result"
    }
   ],
   "source": [
    "imdb.groupby('Decade').count()"
   ]
  },
  {
   "cell_type": "code",
   "execution_count": 52,
   "metadata": {},
   "outputs": [
    {
     "data": {
      "text/plain": [
       "<matplotlib.axes._subplots.AxesSubplot at 0x7fbec057ebe0>"
      ]
     },
     "execution_count": 52,
     "metadata": {},
     "output_type": "execute_result"
    },
    {
     "data": {
      "image/png": "[encoded data removed]",
      "text/plain": [
       "<Figure size 432x288 with 1 Axes>"
      ]
     },
     "metadata": {
      "needs_background": "light"
     },
     "output_type": "display_data"
    }
   ],
   "source": [
    "imdb.groupby('Decade').count().plot(y='Year')"
   ]
  }
 ],
 "metadata": {
  "celltoolbar": "Slideshow",
  "kernelspec": {
   "display_name": "Python 3",
   "language": "python",
   "name": "python3"
  },
  "language_info": {
   "codemirror_mode": {
    "name": "ipython",
    "version": 3
   },
   "file_extension": ".py",
   "mimetype": "text/x-python",
   "name": "python",
   "nbconvert_exporter": "python",
   "pygments_lexer": "ipython3",
   "version": "3.6.7"
  }
 },
 "nbformat": 4,
 "nbformat_minor": 2
}
